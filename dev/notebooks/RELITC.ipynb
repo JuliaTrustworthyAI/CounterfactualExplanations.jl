{
 "cells": [
  {
   "cell_type": "code",
   "execution_count": 1,
   "id": "098c3a0a-8fc0-44da-ab50-fe289ef9f56f",
   "metadata": {},
   "outputs": [],
   "source": [
    "using Pkg"
   ]
  },
  {
   "cell_type": "code",
   "execution_count": 2,
   "id": "88746cde-6260-40cd-92c3-0316deced701",
   "metadata": {},
   "outputs": [
    {
     "name": "stdout",
     "output_type": "stream",
     "text": [
      "\u001b[32m\u001b[1mStatus\u001b[22m\u001b[39m `C:\\Users\\drobi\\Desktop\\uni\\master_thesis\\CounterfactualExplanations.jl\\dev\\notebooks\\Project.toml`\n",
      "  \u001b[90m[438e738f] \u001b[39mPyCall v1.96.4\n",
      "  \u001b[90m[21ca0261] \u001b[39mTransformers v0.2.8\n",
      "  \u001b[90m[d66529d5] \u001b[39mTrillionDollarWords v0.1.0\n"
     ]
    }
   ],
   "source": [
    "Pkg.status()"
   ]
  },
  {
   "cell_type": "code",
   "execution_count": 1,
   "id": "d12f0762-09fa-4013-b52a-466e30028eef",
   "metadata": {},
   "outputs": [],
   "source": [
    "import Transformers\n",
    "using Transformers.TextEncoders\n",
    "using Transformers.HuggingFace"
   ]
  },
  {
   "cell_type": "code",
   "execution_count": 4,
   "id": "66f296ec-2419-43db-bd2a-5a62de2eafeb",
   "metadata": {},
   "outputs": [],
   "source": [
    "using TrillionDollarWords "
   ]
  },
  {
   "cell_type": "code",
   "execution_count": null,
   "id": "7eb64489-f40e-4dbe-b447-0e87d8e20104",
   "metadata": {},
   "outputs": [],
   "source": [
    "cls = TrillionDollarWords.load_model(; output_hidden_states=true)"
   ]
  },
  {
   "cell_type": "code",
   "execution_count": null,
   "id": "c97eb28b-1ad1-416b-a97b-8a4c02ed1a62",
   "metadata": {},
   "outputs": [],
   "source": [
    "df = load_all_sentences()\n",
    "n = 2\n",
    "queries = df[1:n, :]"
   ]
  },
  {
   "cell_type": "code",
   "execution_count": 7,
   "id": "667a0a96-53ae-4aec-8ec7-14013291ec0e",
   "metadata": {},
   "outputs": [
    {
     "data": {
      "text/plain": [
       "(hidden_state = Float32[-0.6870835 -0.24942288 … -0.0025752056 -0.0017432718; 0.6610133 0.31153536 … 0.013969824 0.0137721775; … ; -0.8090527 -1.3571459 … -0.17556852 -0.17569499; -0.5847161 -1.2344005 … -0.044540238 -0.04152311;;;], logit = Float32[-3.221773; -3.1708598; 6.291086;;])"
      ]
     },
     "execution_count": 7,
     "metadata": {},
     "output_type": "execute_result"
    }
   ],
   "source": [
    "logits = cls([queries[1, :].sentence])"
   ]
  },
  {
   "cell_type": "code",
   "execution_count": 1,
   "id": "930bdca2-83c3-4f68-bb43-43fc4c470c25",
   "metadata": {},
   "outputs": [
    {
     "name": "stderr",
     "output_type": "stream",
     "text": [
      "\u001b[32m\u001b[1m    Building\u001b[22m\u001b[39m Conda ─→ `C:\\Users\\drobi\\.julia\\scratchspaces\\44cfe95a-1eb2-52ea-b672-e2afdf69b78f\\51cab8e982c5b598eea9c8ceaced4b58d9dd37c9\\build.log`\n",
      "\u001b[32m\u001b[1m    Building\u001b[22m\u001b[39m PyCall → `C:\\Users\\drobi\\.julia\\scratchspaces\\44cfe95a-1eb2-52ea-b672-e2afdf69b78f\\9816a3826b0ebf49ab4926e2b18842ad8b5c8f04\\build.log`\n"
     ]
    }
   ],
   "source": [
    "ENV[\"Python\"] = raw\"C:\\Users\\drobi\\anaconda3\\envs\\relitc\\python.exe\"\n",
    "using Pkg\n",
    "Pkg.build(\"PyCall\")"
   ]
  },
  {
   "cell_type": "code",
   "execution_count": 2,
   "id": "b52122d1-7e3f-41b5-94ac-a6329eb7b7e8",
   "metadata": {
    "scrolled": true
   },
   "outputs": [
    {
     "data": {
      "text/plain": [
       "PyObject <module 'transformers_interpret' from 'C:\\\\Users\\\\drobi\\\\anaconda3\\\\envs\\\\relitc\\\\lib\\\\site-packages\\\\transformers_interpret\\\\__init__.py'>"
      ]
     },
     "execution_count": 2,
     "metadata": {},
     "output_type": "execute_result"
    }
   ],
   "source": [
    "using PyCall\n",
    "ti = pyimport(\"transformers_interpret\")"
   ]
  },
  {
   "cell_type": "code",
   "execution_count": null,
   "id": "9f9e9713-ddb3-4f79-841b-100c9a09328a",
   "metadata": {},
   "outputs": [],
   "source": [
    "Transformers.HuggingFace.save_model(\"Julia_FOMC\", cls.mod; path = pwd(), weight_name = \"weight\")"
   ]
  },
  {
   "cell_type": "code",
   "execution_count": 15,
   "id": "e0b2bb70-d889-4f73-92c0-a8719a4aa6a3",
   "metadata": {},
   "outputs": [
    {
     "data": {
      "text/plain": [
       "\"C:\\\\Users\\\\drobi\\\\Desktop\\\\uni\\\\master_thesis\\\\CounterfactualExplanations.jl\\\\dev\\\\notebooks\\\\Julia_FOMC\\\\config.json\""
      ]
     },
     "execution_count": 15,
     "metadata": {},
     "output_type": "execute_result"
    }
   ],
   "source": [
    "Transformers.HuggingFace.save_config(\"Julia_FOMC\", cls.cfg; path = pwd(), config_name = \"config.json\")"
   ]
  },
  {
   "cell_type": "code",
   "execution_count": null,
   "id": "b0a2a74a-a93f-4df9-85df-5e61de487128",
   "metadata": {},
   "outputs": [],
   "source": []
  }
 ],
 "metadata": {
  "kernelspec": {
   "display_name": "Julia 1.10.2",
   "language": "julia",
   "name": "julia-1.10"
  },
  "language_info": {
   "file_extension": ".jl",
   "mimetype": "application/julia",
   "name": "julia",
   "version": "1.10.2"
  }
 },
 "nbformat": 4,
 "nbformat_minor": 5
}
