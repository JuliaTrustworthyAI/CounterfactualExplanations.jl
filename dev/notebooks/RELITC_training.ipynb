{
 "cells": [
  {
   "cell_type": "code",
   "execution_count": 1,
   "id": "098c3a0a-8fc0-44da-ab50-fe289ef9f56f",
   "metadata": {},
   "outputs": [],
   "source": [
    "using Pkg"
   ]
  },
  {
   "cell_type": "code",
   "execution_count": 2,
   "id": "88746cde-6260-40cd-92c3-0316deced701",
   "metadata": {},
   "outputs": [
    {
     "name": "stdout",
     "output_type": "stream",
     "text": [
      "\u001b[32m\u001b[1mStatus\u001b[22m\u001b[39m `C:\\Users\\drobi\\Desktop\\uni\\master_thesis\\CounterfactualExplanations.jl\\dev\\notebooks\\Project.toml`\n",
      "  \u001b[90m[438e738f] \u001b[39mPyCall v1.96.4\n",
      "  \u001b[90m[21ca0261] \u001b[39mTransformers v0.2.8\n",
      "  \u001b[90m[d66529d5] \u001b[39mTrillionDollarWords v0.1.0\n"
     ]
    }
   ],
   "source": [
    "Pkg.status()"
   ]
  },
  {
   "cell_type": "code",
   "execution_count": 1,
   "id": "d12f0762-09fa-4013-b52a-466e30028eef",
   "metadata": {},
   "outputs": [],
   "source": [
    "import Transformers\n",
    "using Transformers.TextEncoders\n",
    "using Transformers.HuggingFace"
   ]
  },
  {
   "cell_type": "code",
   "execution_count": 1,
   "id": "66f296ec-2419-43db-bd2a-5a62de2eafeb",
   "metadata": {},
   "outputs": [],
   "source": [
    "using TrillionDollarWords "
   ]
  },
  {
   "cell_type": "code",
   "execution_count": null,
   "id": "7eb64489-f40e-4dbe-b447-0e87d8e20104",
   "metadata": {},
   "outputs": [],
   "source": [
    "cls = TrillionDollarWords.load_model(; output_hidden_states=true)"
   ]
  },
  {
   "cell_type": "code",
   "execution_count": 3,
   "id": "c97eb28b-1ad1-416b-a97b-8a4c02ed1a62",
   "metadata": {},
   "outputs": [
    {
     "data": {
      "text/html": [
       "<div><div style = \"float: left;\"><span>2×8 DataFrame</span></div><div style = \"clear: both;\"></div></div><div class = \"data-frame\" style = \"overflow-x: scroll;\"><table class = \"data-frame\" style = \"margin-bottom: 6px;\"><thead><tr class = \"header\"><th class = \"rowNumber\" style = \"font-weight: bold; text-align: right;\">Row</th><th style = \"text-align: left;\">sentence_id</th><th style = \"text-align: left;\">doc_id</th><th style = \"text-align: left;\">date</th><th style = \"text-align: left;\">event_type</th><th style = \"text-align: left;\">label</th><th style = \"text-align: left;\">sentence</th><th style = \"text-align: left;\">score</th><th style = \"text-align: left;\">speaker</th></tr><tr class = \"subheader headerLastRow\"><th class = \"rowNumber\" style = \"font-weight: bold; text-align: right;\"></th><th title = \"Int64\" style = \"text-align: left;\">Int64</th><th title = \"Int64\" style = \"text-align: left;\">Int64</th><th title = \"Dates.Date\" style = \"text-align: left;\">Date</th><th title = \"InlineStrings.String31\" style = \"text-align: left;\">String31</th><th title = \"InlineStrings.String7\" style = \"text-align: left;\">String7</th><th title = \"String\" style = \"text-align: left;\">String</th><th title = \"Float64\" style = \"text-align: left;\">Float64</th><th title = \"Union{Missing, String}\" style = \"text-align: left;\">String?</th></tr></thead><tbody><tr><td class = \"rowNumber\" style = \"font-weight: bold; text-align: right;\">1</td><td style = \"text-align: right;\">1</td><td style = \"text-align: right;\">1</td><td style = \"text-align: left;\">1996-01-30</td><td style = \"text-align: left;\">meeting minutes</td><td style = \"text-align: left;\">neutral</td><td style = \"text-align: left;\">The Committee then turned to a discussion of the economic and financial outlook, the ranges for the growth of money and debt in 1996, and the implementation of monetary policy over the intermeeting period ahead.</td><td style = \"text-align: right;\">0.999848</td><td style = \"font-style: italic; text-align: left;\">missing</td></tr><tr><td class = \"rowNumber\" style = \"font-weight: bold; text-align: right;\">2</td><td style = \"text-align: right;\">2</td><td style = \"text-align: right;\">1</td><td style = \"text-align: left;\">1996-01-30</td><td style = \"text-align: left;\">meeting minutes</td><td style = \"text-align: left;\">neutral</td><td style = \"text-align: left;\">Consumer spending had expanded modestly on balance, growth in business invest- ment in capital goods appeared to have slackened somewhat recently, and housing demand seemed to have leveled out.</td><td style = \"text-align: right;\">0.999584</td><td style = \"font-style: italic; text-align: left;\">missing</td></tr></tbody></table></div>"
      ],
      "text/latex": [
       "\\begin{tabular}{r|ccccccc}\n",
       "\t& sentence\\_id & doc\\_id & date & event\\_type & label & sentence & \\\\\n",
       "\t\\hline\n",
       "\t& Int64 & Int64 & Date & String31 & String7 & String & \\\\\n",
       "\t\\hline\n",
       "\t1 & 1 & 1 & 1996-01-30 & meeting minutes & neutral & The Committee then turned to a discussion of the economic and financial outlook, the ranges for the growth of money and debt in 1996, and the implementation of monetary policy over the intermeeting period ahead. & $\\dots$ \\\\\n",
       "\t2 & 2 & 1 & 1996-01-30 & meeting minutes & neutral & Consumer spending had expanded modestly on balance, growth in business invest- ment in capital goods appeared to have slackened somewhat recently, and housing demand seemed to have leveled out. & $\\dots$ \\\\\n",
       "\\end{tabular}\n"
      ],
      "text/plain": [
       "\u001b[1m2×8 DataFrame\u001b[0m\n",
       "\u001b[1m Row \u001b[0m│\u001b[1m sentence_id \u001b[0m\u001b[1m doc_id \u001b[0m\u001b[1m date       \u001b[0m\u001b[1m event_type      \u001b[0m\u001b[1m label   \u001b[0m\u001b[1m sentence    \u001b[0m ⋯\n",
       "     │\u001b[90m Int64       \u001b[0m\u001b[90m Int64  \u001b[0m\u001b[90m Date       \u001b[0m\u001b[90m String31        \u001b[0m\u001b[90m String7 \u001b[0m\u001b[90m String      \u001b[0m ⋯\n",
       "─────┼──────────────────────────────────────────────────────────────────────────\n",
       "   1 │           1       1  1996-01-30  meeting minutes  neutral  The Committe ⋯\n",
       "   2 │           2       1  1996-01-30  meeting minutes  neutral  Consumer spe\n",
       "\u001b[36m                                                               3 columns omitted\u001b[0m"
      ]
     },
     "execution_count": 3,
     "metadata": {},
     "output_type": "execute_result"
    }
   ],
   "source": [
    "df = load_all_sentences()\n",
    "n = 2\n",
    "queries = df[1:n, :]"
   ]
  },
  {
   "cell_type": "code",
   "execution_count": 4,
   "id": "667a0a96-53ae-4aec-8ec7-14013291ec0e",
   "metadata": {},
   "outputs": [
    {
     "data": {
      "text/plain": [
       "(hidden_state = Float32[-0.6870835 -0.24942288 … -0.0025752056 -0.0017432718; 0.6610133 0.31153536 … 0.013969824 0.0137721775; … ; -0.8090527 -1.3571459 … -0.17556852 -0.17569499; -0.5847161 -1.2344005 … -0.044540238 -0.04152311;;;], logit = Float32[-3.221773; -3.1708598; 6.291086;;])"
      ]
     },
     "execution_count": 4,
     "metadata": {},
     "output_type": "execute_result"
    }
   ],
   "source": [
    "logits = cls([queries[1, :].sentence])"
   ]
  },
  {
   "cell_type": "code",
   "execution_count": null,
   "id": "9f9e9713-ddb3-4f79-841b-100c9a09328a",
   "metadata": {},
   "outputs": [],
   "source": [
    "Transformers.HuggingFace.save_model(\"Julia_FOMC\", cls.mod; path = pwd(), weight_name = \"weight\")"
   ]
  },
  {
   "cell_type": "code",
   "execution_count": 15,
   "id": "e0b2bb70-d889-4f73-92c0-a8719a4aa6a3",
   "metadata": {},
   "outputs": [
    {
     "data": {
      "text/plain": [
       "\"C:\\\\Users\\\\drobi\\\\Desktop\\\\uni\\\\master_thesis\\\\CounterfactualExplanations.jl\\\\dev\\\\notebooks\\\\Julia_FOMC\\\\config.json\""
      ]
     },
     "execution_count": 15,
     "metadata": {},
     "output_type": "execute_result"
    }
   ],
   "source": [
    "Transformers.HuggingFace.save_config(\"Julia_FOMC\", cls.cfg; path = pwd(), config_name = \"config.json\")"
   ]
  }
 ],
 "metadata": {
  "kernelspec": {
   "display_name": "Julia 1.10.2",
   "language": "julia",
   "name": "julia-1.10"
  },
  "language_info": {
   "file_extension": ".jl",
   "mimetype": "application/julia",
   "name": "julia",
   "version": "1.10.2"
  }
 },
 "nbformat": 4,
 "nbformat_minor": 5
}
