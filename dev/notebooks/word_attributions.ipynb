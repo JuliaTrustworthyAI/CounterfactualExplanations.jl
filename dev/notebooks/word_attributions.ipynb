{
 "cells": [
  {
   "cell_type": "code",
   "execution_count": 21,
   "id": "255175ec-037e-4238-9db3-24c24d324544",
   "metadata": {},
   "outputs": [],
   "source": [
    "import os\n",
    "import json\n",
    "import transformers\n",
    "import transformers_interpret\n",
    "\n",
    "from transformers import AutoTokenizer, RobertaForSequenceClassification\n",
    "from transformers_interpret import SequenceClassificationExplainer"
   ]
  },
  {
   "cell_type": "code",
   "execution_count": 22,
   "id": "558306bd",
   "metadata": {},
   "outputs": [],
   "source": [
    "PATH = \"C:/Users/drobi/Desktop/uni/master_thesis/CounterfactualExplanations.jl/dev/notebooks/model\"\n",
    "\n",
    "input_strings = [\"dict, it contains the list of tokens and the list of feature importances\",\n",
    "    \"we should invest in the new technologies to increase our chances in the following term\"]"
   ]
  },
  {
   "cell_type": "code",
   "execution_count": 23,
   "id": "a713410b",
   "metadata": {},
   "outputs": [],
   "source": [
    "model = RobertaForSequenceClassification.from_pretrained(PATH, local_files_only=True)\n",
    "tokenizer = AutoTokenizer.from_pretrained(\"gtfintechlab/FOMC-RoBERTa\")"
   ]
  },
  {
   "cell_type": "code",
   "execution_count": 24,
   "id": "99fe89ef",
   "metadata": {},
   "outputs": [],
   "source": [
    "scorer = SequenceClassificationExplainer(model, tokenizer, attribution_type='lig')"
   ]
  },
  {
   "cell_type": "code",
   "execution_count": 25,
   "id": "164b6931",
   "metadata": {},
   "outputs": [],
   "source": [
    "attributions = []\n",
    "for t in input_strings:\n",
    "    attributions.append(scorer(t, index=0, internal_batch_size=1))"
   ]
  },
  {
   "cell_type": "code",
   "execution_count": 36,
   "id": "e7ef3cfc",
   "metadata": {},
   "outputs": [],
   "source": [
    "with open('temp/attributions.json', 'w') as f:\n",
    "    f.write(json.dumps(attributions))"
   ]
  },
  {
   "cell_type": "code",
   "execution_count": null,
   "id": "352a1979",
   "metadata": {},
   "outputs": [],
   "source": []
  }
 ],
 "metadata": {
  "kernelspec": {
   "display_name": "relitc",
   "language": "python",
   "name": "relitc"
  },
  "language_info": {
   "codemirror_mode": {
    "name": "ipython",
    "version": 3
   },
   "file_extension": ".py",
   "mimetype": "text/x-python",
   "name": "python",
   "nbconvert_exporter": "python",
   "pygments_lexer": "ipython3",
   "version": "3.9.7"
  }
 },
 "nbformat": 4,
 "nbformat_minor": 5
}
