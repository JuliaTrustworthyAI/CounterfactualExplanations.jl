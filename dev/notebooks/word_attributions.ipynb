{
 "cells": [
  {
   "cell_type": "code",
   "execution_count": 1,
   "id": "255175ec-037e-4238-9db3-24c24d324544",
   "metadata": {},
   "outputs": [],
   "source": [
    "import transformers\n",
    "import transformers_interpret"
   ]
  },
  {
   "cell_type": "code",
   "execution_count": 2,
   "id": "dbe08d3e",
   "metadata": {},
   "outputs": [],
   "source": [
    "from transformers import AutoTokenizer, RobertaForSequenceClassification"
   ]
  },
  {
   "cell_type": "code",
   "execution_count": 9,
   "id": "a713410b",
   "metadata": {},
   "outputs": [],
   "source": [
    "PATH = \"C:/Users/drobi/Desktop/uni/master_thesis/CounterfactualExplanations.jl/dev/notebooks/Julia_FOMC\"\n",
    "model = RobertaForSequenceClassification.from_pretrained(PATH, local_files_only=True)"
   ]
  },
  {
   "cell_type": "code",
   "execution_count": 10,
   "id": "d226e1d3",
   "metadata": {},
   "outputs": [],
   "source": [
    "from transformers_interpret import SequenceClassificationExplainer"
   ]
  },
  {
   "cell_type": "code",
   "execution_count": 11,
   "id": "1be89e16",
   "metadata": {},
   "outputs": [],
   "source": [
    "tokenizer = AutoTokenizer.from_pretrained(\"gtfintechlab/FOMC-RoBERTa\")"
   ]
  },
  {
   "cell_type": "code",
   "execution_count": 12,
   "id": "99fe89ef",
   "metadata": {},
   "outputs": [],
   "source": [
    "scorer = SequenceClassificationExplainer(model, tokenizer, attribution_type='lig')"
   ]
  },
  {
   "cell_type": "code",
   "execution_count": 18,
   "id": "164b6931",
   "metadata": {},
   "outputs": [],
   "source": [
    "x = \"dict, it contains the list of tokens and the list of feature importances\"\n",
    "attributions = scorer(x, index=0, internal_batch_size=1)"
   ]
  },
  {
   "cell_type": "code",
   "execution_count": 19,
   "id": "e7ef3cfc",
   "metadata": {},
   "outputs": [
    {
     "data": {
      "text/plain": [
       "[('<s>', 0.0),\n",
       " ('dict', -0.1658131611215076),\n",
       " (',', -0.016083339129156157),\n",
       " ('it', -0.05116318593480035),\n",
       " ('contains', 0.06590468067645444),\n",
       " ('the', -0.47440672660259087),\n",
       " ('list', 0.10948647313489888),\n",
       " ('of', -0.14820110831227676),\n",
       " ('tokens', -0.155580645658077),\n",
       " ('and', -0.047361977300854),\n",
       " ('the', 0.07312371424594372),\n",
       " ('list', 0.029488012987564528),\n",
       " ('of', -0.06527359636271021),\n",
       " ('feature', -0.021884019853495997),\n",
       " ('import', 0.2501637522551888),\n",
       " ('ances', -0.7786443696445894),\n",
       " ('</s>', 0.0)]"
      ]
     },
     "execution_count": 19,
     "metadata": {},
     "output_type": "execute_result"
    }
   ],
   "source": [
    "attributions"
   ]
  },
  {
   "cell_type": "code",
   "execution_count": null,
   "id": "47dfe7e9",
   "metadata": {},
   "outputs": [],
   "source": []
  }
 ],
 "metadata": {
  "kernelspec": {
   "display_name": "relitc",
   "language": "python",
   "name": "relitc"
  },
  "language_info": {
   "codemirror_mode": {
    "name": "ipython",
    "version": 3
   },
   "file_extension": ".py",
   "mimetype": "text/x-python",
   "name": "python",
   "nbconvert_exporter": "python",
   "pygments_lexer": "ipython3",
   "version": "3.9.7"
  }
 },
 "nbformat": 4,
 "nbformat_minor": 5
}
