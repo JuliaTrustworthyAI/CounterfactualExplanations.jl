{
 "cells": [
  {
   "cell_type": "code",
   "execution_count": 16,
   "id": "0de19327-1494-4f9c-a799-d5551fac5826",
   "metadata": {},
   "outputs": [],
   "source": [
    "using Transformers\n",
    "using Transformers.TextEncoders\n",
    "using Transformers.HuggingFace\n",
    "using TrillionDollarWords"
   ]
  },
  {
   "cell_type": "code",
   "execution_count": 14,
   "id": "a596f684-1b82-4823-987b-adc633545977",
   "metadata": {},
   "outputs": [],
   "source": [
    "bert_enc = hgf\"bert-base-uncased:tokenizer\"\n",
    "bert_model = hgf\"bert-base-uncased:ForMaskedLM\";"
   ]
  },
  {
   "cell_type": "code",
   "execution_count": 29,
   "id": "d756f4e6-026b-4f3c-9f3d-3274953e16de",
   "metadata": {},
   "outputs": [
    {
     "data": {
      "text/plain": [
       "(hidden_state = Float32[-0.025804881 -0.6098507 … -0.24308763 0.8577285; 0.2154967 0.3834608 … 0.22081807 0.2481272; … ; -0.0866155 0.20339105 … 0.11783406 -0.6430016; -0.017820084 0.3142122 … -0.13285579 -0.32952666;;;], attention_mask = NeuralAttentionlib.LengthMask{1, Vector{Int32}}(Int32[10]), logit = Float32[-6.5805893 -6.8866 … -11.95905 -12.119816; -6.526532 -6.55237 … -12.090809 -11.829693; … ; -5.7084327 -5.6025305 … -11.248217 -9.540642; -3.9600742 -4.9789352 … -4.581249 -9.307364;;;])"
      ]
     },
     "execution_count": 29,
     "metadata": {},
     "output_type": "execute_result"
    }
   ],
   "source": [
    "out = bert_model(encode(bert_enc, \"hello world and my [MASK] of [MASK]!\"))"
   ]
  },
  {
   "cell_type": "code",
   "execution_count": 30,
   "id": "3d58e401-25ed-4389-9593-5a38701c57ce",
   "metadata": {},
   "outputs": [
    {
     "data": {
      "text/plain": [
       "10×1 Matrix{String}:\n",
       " \".\"\n",
       " \"hello\"\n",
       " \"world\"\n",
       " \"and\"\n",
       " \"my\"\n",
       " \"love\"\n",
       " \"of\"\n",
       " \"friends\"\n",
       " \"!\"\n",
       " \".\""
      ]
     },
     "execution_count": 30,
     "metadata": {},
     "output_type": "execute_result"
    }
   ],
   "source": [
    "decode(bert_enc, out.logit)"
   ]
  },
  {
   "cell_type": "code",
   "execution_count": null,
   "id": "ff831709-34d2-4823-9b6d-021a61eaf132",
   "metadata": {},
   "outputs": [],
   "source": []
  }
 ],
 "metadata": {
  "kernelspec": {
   "display_name": "Julia 1.10.2",
   "language": "julia",
   "name": "julia-1.10"
  },
  "language_info": {
   "file_extension": ".jl",
   "mimetype": "application/julia",
   "name": "julia",
   "version": "1.10.2"
  }
 },
 "nbformat": 4,
 "nbformat_minor": 5
}
