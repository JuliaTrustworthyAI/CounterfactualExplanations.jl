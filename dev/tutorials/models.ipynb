{
 "cells": [
  {
   "cell_type": "markdown",
   "metadata": {},
   "source": [
    "```@meta\n",
    "CurrentModule = AlgorithmicRecourse \n",
    "```"
   ]
  },
  {
   "cell_type": "markdown",
   "metadata": {},
   "source": [
    "# Models"
   ]
  },
  {
   "cell_type": "markdown",
   "metadata": {},
   "source": [
    "## Default models\n",
    "\n",
    "There are currently structures for two default models that can be used with AlgorithmicRecourse.jl:\n",
    "\n",
    "1. [`LogisticModel(w::AbstractArray,b::AbstractArray)`](@ref)\n",
    "2. [`BayesianLogisticModel(μ::AbstractArray,Σ::AbstractArray)`](@ref)\n",
    "\n",
    "Both take sets of estimated parameters at the point of instantiation: the constructors will not fit a model for you, but assume that you have already estimated the respective model yourself and have access to its parameter estimates. Based on the supplied parameters methods to predict logits and probabilities are already implemented and used in the counterfactual search. \n",
    "\n",
    "For the simple logistic regression model logits are computed as $a=Xw + b$ and probabilities are simply $\\sigma(a)$. For the Bayesian logistic regression model logits are computed as $X\\mu$ and the predictive posterior is computed through Laplace approximation."
   ]
  },
  {
   "cell_type": "markdown",
   "metadata": {},
   "source": [
    "## Custom models\n",
    "\n",
    "Apart from the default models you can use any arbitrary (differentiable) model and generate recourse in the same way as before. Only two steps are necessary to make your own model compatible with AlgorithmicRecourse.jl:\n",
    "\n",
    "1. The model needs to be declared as a subtype of `AlgorithmicRecourse.Models.FittedModel`.\n",
    "2. You need to extend the functions `AlgorithmicRecourse.Models.logits` and `AlgorithmicRecourse.Models.probs` to accept your custom model.\n",
    "\n",
    "Below we will go through a simple example to see how this can be done in practice. "
   ]
  },
  {
   "cell_type": "markdown",
   "metadata": {},
   "source": [
    "### Neural network\n",
    "\n",
    "In this example we will build a simple artificial neural network using [Flux.jl](https://fluxml.ai/) for a binary classification task."
   ]
  },
  {
   "cell_type": "code",
   "execution_count": 35,
   "metadata": {},
   "outputs": [
    {
     "data": {
      "text/plain": [
       "LogLevel(1)"
      ]
     },
     "metadata": {},
     "output_type": "display_data"
    }
   ],
   "source": [
    "# Import libraries.\n",
    "using Flux, Plots, Random, PlotThemes, Statistics, AlgorithmicRecourse\n",
    "theme(:wong)\n",
    "using Logging\n",
    "disable_logging(Logging.Info)"
   ]
  },
  {
   "cell_type": "markdown",
   "metadata": {},
   "source": [
    "First we generate some toy data below. The code that generates this data was borrowed from a great tutorial about Bayesian neural networks provided by [Turing.jl](https://turing.ml/dev/), which you may find [here](https://turing.ml/dev/tutorials/03-bayesian-neural-network/). \n",
    "\n",
    "The plot below shows the generated samples in the 2D feature space where colours indicate the associated labels. Clearly this data is not linearly separable and the default `LogisticModel` would be ill suited for this classification task."
   ]
  },
  {
   "cell_type": "code",
   "execution_count": 36,
   "metadata": {},
   "outputs": [],
   "source": [
    "# Number of points to generate.\n",
    "N = 80\n",
    "M = round(Int, N / 4)\n",
    "Random.seed!(1234)\n",
    "\n",
    "x, y = toy_data_non_linear(N)\n",
    "X = hcat(x...)\n",
    "plt = plot()\n",
    "plt = plot_data!(plt,X',y);\n",
    "savefig(plt, \"www/models_samples.png\")"
   ]
  },
  {
   "cell_type": "markdown",
   "metadata": {},
   "source": [
    "![](www/models_samples.png)"
   ]
  },
  {
   "cell_type": "markdown",
   "metadata": {},
   "source": [
    "#### Training the model\n",
    "\n",
    "Instead we will build a simple artificial neural network `nn` with one hidden layer. For additional resources on how to do deep learning with [Flux.jl](https://fluxml.ai/) just have a look at their documentation. "
   ]
  },
  {
   "cell_type": "code",
   "execution_count": 37,
   "metadata": {},
   "outputs": [],
   "source": [
    "nn = build_model()\n",
    "loss(x, y) = Flux.Losses.logitbinarycrossentropy(nn(x), y)\n",
    "ps = Flux.params(nn)\n",
    "data = zip(x,y);"
   ]
  },
  {
   "cell_type": "markdown",
   "metadata": {},
   "source": [
    "The code below trains the neural network for the task at hand. The plot shows the (training) loss over time. Note that normally we would be interested in loss with respect to a validation data set. But since we are primarily interested in generated recourse for a trained classifier, here we will just keep things very simple."
   ]
  },
  {
   "cell_type": "code",
   "execution_count": 38,
   "metadata": {},
   "outputs": [],
   "source": [
    "using Flux.Optimise: update!, ADAM\n",
    "opt = ADAM()\n",
    "epochs = 10\n",
    "avg_loss(data) = mean(map(d -> loss(d[1],d[2]), data))\n",
    "\n",
    "using Plots\n",
    "anim = Animation()\n",
    "plt = plot(ylim=(0,avg_loss(data)), xlim=(0,epochs), legend=false, xlab=\"Epoch\")\n",
    "avg_l = []\n",
    "\n",
    "for epoch = 1:epochs\n",
    "  for d in data\n",
    "    gs = gradient(params(nn)) do\n",
    "      l = loss(d...)\n",
    "    end\n",
    "    update!(opt, params(nn), gs)\n",
    "  end\n",
    "  avg_l = vcat(avg_l,avg_loss(data))\n",
    "  plot!(plt, avg_l, color=1, title=\"Average (training) loss\")\n",
    "  frame(anim, plt)\n",
    "end\n",
    "\n",
    "gif(anim, \"www/models_loss.gif\");"
   ]
  },
  {
   "cell_type": "markdown",
   "metadata": {},
   "source": [
    "![](www/models_loss.gif)"
   ]
  },
  {
   "cell_type": "markdown",
   "metadata": {},
   "source": [
    "#### Generating recourse\n",
    "\n",
    "Now it's game time: we have a fitted model $M: \\mathcal{X} \\mapsto y$ and are interested in generating recourse for some individual $\\overline{x}\\in\\mathcal{X}$. As mentioned above we need to do a bit more work to prepare the model to be used by AlgorithmicRecourse.jl. \n",
    "\n",
    "The code below takes care of all of that: in step 1) it declares our model as a subtype of `Models.FittedModel` and in step 2) it just extends the two functions. "
   ]
  },
  {
   "cell_type": "code",
   "execution_count": 39,
   "metadata": {},
   "outputs": [
    {
     "data": {
      "text/plain": [
       "NeuralNetwork(Chain(Dense(2, 32, relu), Dense(32, 1)))"
      ]
     },
     "metadata": {},
     "output_type": "display_data"
    }
   ],
   "source": [
    "using AlgorithmicRecourse, AlgorithmicRecourse.Models\n",
    "import AlgorithmicRecourse.Models: logits, probs # import functions in order to extend\n",
    "\n",
    "# Step 1)\n",
    "struct NeuralNetwork <: Models.FittedModel\n",
    "    nn::Any\n",
    "end\n",
    "\n",
    "# Step 2)\n",
    "logits(𝑴::NeuralNetwork, X::AbstractArray) = 𝑴.nn(X)\n",
    "probs(𝑴::NeuralNetwork, X::AbstractArray)= σ.(logits(𝑴, X))\n",
    "𝑴 = NeuralNetwork(nn)"
   ]
  },
  {
   "cell_type": "markdown",
   "metadata": {},
   "source": [
    "The plot below shows the predicted probabilities in the feature domain. Evidently our simple neural network is doing very well on the training data, as expected. "
   ]
  },
  {
   "cell_type": "code",
   "execution_count": 40,
   "metadata": {},
   "outputs": [],
   "source": [
    "# Plot the posterior distribution with a contour plot.\n",
    "plt = plot_contour(X',y,𝑴);\n",
    "savefig(plt, \"www/models_contour.png\")"
   ]
  },
  {
   "cell_type": "markdown",
   "metadata": {},
   "source": [
    "![](www/models_contour.png)"
   ]
  },
  {
   "cell_type": "markdown",
   "metadata": {},
   "source": [
    "Now we just select a random sample from our data and based on its current label we set as our target the opposite label and desired threshold for the predicted probability."
   ]
  },
  {
   "cell_type": "code",
   "execution_count": 41,
   "metadata": {},
   "outputs": [],
   "source": [
    "using Random\n",
    "Random.seed!(123)\n",
    "x̅ = X[:,rand(1:size(X)[2])]\n",
    "y̅ = round(probs(𝑴, x̅)[1])\n",
    "target = ifelse(y̅==1.0,0.0,1.0) # opposite label as target\n",
    "γ = 0.75; # desired level of confidence"
   ]
  },
  {
   "cell_type": "markdown",
   "metadata": {},
   "source": [
    "Then finally we use the `GenericGenerator` to generate recourse. The plot further below shows the resulting counterfactual path."
   ]
  },
  {
   "cell_type": "code",
   "execution_count": 42,
   "metadata": {},
   "outputs": [],
   "source": [
    "generator = GenericGenerator(0.1,0.1,1e-5,:logitbinarycrossentropy,nothing)\n",
    "recourse = generate_recourse(generator, x̅, 𝑴, target, γ); # generate recourse"
   ]
  },
  {
   "cell_type": "code",
   "execution_count": 43,
   "metadata": {},
   "outputs": [],
   "source": [
    "T = size(recourse.path)[1]\n",
    "ŷ = AlgorithmicRecourse.target_probs(probs(recourse.𝑴, recourse.path'),target)\n",
    "p1 = plot_contour(X',y,𝑴;clegend=false, title=\"Neural network - plugin\")\n",
    "anim = @animate for t in 1:T\n",
    "    scatter!(p1, [recourse.path[t,1]], [recourse.path[t,2]], ms=5, color=Int(y̅),label=\"\")\n",
    "    p2 = plot(1:t, ŷ[1:t], xlim=(0,T), ylim=(0, 1), label=\"p(y̲=\" * string(target) * \")\", title=\"Validity\", lc=:black)\n",
    "    Plots.abline!(p2,0,γ,label=\"threshold γ\", ls=:dash) # decision boundary\n",
    "    plot(p1,p2,size=(800,400))\n",
    "end\n",
    "gif(anim, \"www/models_generic_recourse.gif\", fps=5);"
   ]
  },
  {
   "cell_type": "markdown",
   "metadata": {},
   "source": [
    "![](www/models_generic_recourse.gif)"
   ]
  },
  {
   "cell_type": "markdown",
   "metadata": {},
   "source": [
    "### Ensemble of neural networks\n",
    "\n",
    "In the context of Bayesian classifiers the `GreedyGenerator` can be used since minimizing the predictive uncertainty acts as a proxy for *realism* and *unambiquity*. In other words, if we have a model that incorporates uncertainty, we can generate realistic counterfactuals without the need for a complexity penalty. \n",
    "\n",
    "One efficient way to produce uncertainty estimates in the context of deep learning is to simply use an ensemble of artificial neural networks (also referred to as *deep ensemble*). To this end we can use the `build_model` function from above repeatedly to compose an ensemble of $K$ neural networks:"
   ]
  },
  {
   "cell_type": "code",
   "execution_count": 44,
   "metadata": {},
   "outputs": [],
   "source": [
    "𝓜 = build_ensemble(5);"
   ]
  },
  {
   "cell_type": "markdown",
   "metadata": {},
   "source": [
    "Now we need to be able to train this ensemble, which boils down to training each neural network separately. For this purpose will just summarize the process for training a single neural network (as per above) in a wrapper function:"
   ]
  },
  {
   "cell_type": "code",
   "execution_count": 45,
   "metadata": {},
   "outputs": [
    {
     "data": {
      "text/plain": [
       "forward_nn (generic function with 1 method)"
      ]
     },
     "metadata": {},
     "output_type": "display_data"
    }
   ],
   "source": [
    "function forward_nn(nn, loss, data, opt; n_epochs=200, plotting=nothing)\n",
    "\n",
    "    avg_l = []\n",
    "    \n",
    "    for epoch = 1:n_epochs\n",
    "      for d in data\n",
    "        gs = gradient(params(nn)) do\n",
    "          l = loss(d...)\n",
    "        end\n",
    "        update!(opt, params(nn), gs)\n",
    "      end\n",
    "      if !isnothing(plotting)\n",
    "        plt = plotting[1]\n",
    "        anim = plotting[2]\n",
    "        idx = plotting[3]\n",
    "        avg_loss(data) = mean(map(d -> loss(d[1],d[2]), data))\n",
    "        avg_l = vcat(avg_l,avg_loss(data))\n",
    "        if epoch % plotting[4]==0\n",
    "          plot!(plt, avg_l, color=idx)\n",
    "          frame(anim, plt)\n",
    "        end\n",
    "      end\n",
    "    end\n",
    "    \n",
    "end"
   ]
  },
  {
   "cell_type": "markdown",
   "metadata": {},
   "source": [
    "This wrapper function is used as a subroutine in `forward` below, which returns are an ensemble of fitted neural networks. The animation below shows the training loss for each of them. As we can see the different networks produce different outcomes: their parameters were initialized at different random values. This is how we introduce stochasticity and hence incorporate uncertainty around our estimates."
   ]
  },
  {
   "cell_type": "code",
   "execution_count": 46,
   "metadata": {},
   "outputs": [],
   "source": [
    "using Statistics\n",
    "\n",
    "function forward(𝓜, data, opt; loss_type=:logitbinarycrossentropy, plot_loss=true, n_epochs=200, plot_every=20) \n",
    "\n",
    "    anim = nothing\n",
    "    if plot_loss\n",
    "        anim = Animation()\n",
    "        plt = plot(ylim=(0,1), xlim=(0,n_epochs), legend=false, xlab=\"Epoch\", title=\"Average (training) loss\")\n",
    "        for i in 1:length(𝓜)\n",
    "            nn = 𝓜[i]\n",
    "            loss(x, y) = getfield(Flux.Losses,loss_type)(nn(x), y)\n",
    "            forward_nn(nn, loss, data, opt, n_epochs=n_epochs, plotting=(plt, anim, i, plot_every))\n",
    "        end\n",
    "    else\n",
    "        plt = nothing\n",
    "        for nn in 𝓜\n",
    "            loss(x, y) = getfield(Flux.Losses,loss_type)(nn(x), y)\n",
    "            forward_nn(nn, loss, data, opt, n_epochs=n_epochs, plotting=plt)\n",
    "        end\n",
    "    end\n",
    "\n",
    "    return 𝓜, anim\n",
    "end;"
   ]
  },
  {
   "cell_type": "code",
   "execution_count": 47,
   "metadata": {},
   "outputs": [],
   "source": [
    "𝓜, anim = forward(𝓜, data, opt, n_epochs=epochs, plot_every=1); # fit the ensemble\n",
    "gif(anim, \"www/models_ensemble_loss.gif\", fps=10);"
   ]
  },
  {
   "cell_type": "markdown",
   "metadata": {},
   "source": [
    "![](www/models_ensemble_loss.gif)"
   ]
  },
  {
   "cell_type": "markdown",
   "metadata": {},
   "source": [
    "Once again it is straight-forward to make the model compatible with the package. Note that for an ensemble model the predicted logits and probabilities are just averages over predictions produced by all $K$ models."
   ]
  },
  {
   "cell_type": "code",
   "execution_count": 48,
   "metadata": {},
   "outputs": [],
   "source": [
    "# Step 1)\n",
    "struct FittedEnsemble <: Models.FittedModel\n",
    "    𝓜::AbstractArray\n",
    "end\n",
    "\n",
    "# Step 2)\n",
    "logits(𝑴::FittedEnsemble, X::AbstractArray) = mean(Flux.flatten(Flux.stack([nn(X) for nn in 𝑴.𝓜],1)),dims=1)\n",
    "probs(𝑴::FittedEnsemble, X::AbstractArray) = mean(Flux.flatten(Flux.stack([σ.(nn(X)) for nn in 𝑴.𝓜],1)),dims=1)\n",
    "\n",
    "𝑴=FittedEnsemble(𝓜);"
   ]
  },
  {
   "cell_type": "markdown",
   "metadata": {},
   "source": [
    "Again we plot the predicted probabilities in the feature domain. As expected the ensemble is more *conservative* because it incorporates uncertainty: the predicted probabilities splash out more than before, especially in regions that are not populated by samples."
   ]
  },
  {
   "cell_type": "code",
   "execution_count": 49,
   "metadata": {},
   "outputs": [],
   "source": [
    "plt = plot_contour(X',y,𝑴);\n",
    "savefig(plt, \"www/models_ensemble_contour.png\")"
   ]
  },
  {
   "cell_type": "markdown",
   "metadata": {},
   "source": [
    "![](www/models_ensemble_contour.png)"
   ]
  },
  {
   "cell_type": "markdown",
   "metadata": {},
   "source": [
    "Finally, we use the `GreedyGenerator` for the counterfactual search. For the same desired threshold $\\gamma$ as before, the counterfactual ends up somewhat closer to a cluster of original samples. In other words we end up providing more realisitic albeit likely more costly recourse."
   ]
  },
  {
   "cell_type": "code",
   "execution_count": 50,
   "metadata": {},
   "outputs": [],
   "source": [
    "generator = GreedyGenerator(0.25,20,:logitbinarycrossentropy,nothing)\n",
    "recourse = generate_recourse(generator, x̅, 𝑴, target, γ); # generate recourse"
   ]
  },
  {
   "cell_type": "code",
   "execution_count": 51,
   "metadata": {},
   "outputs": [],
   "source": [
    "T = size(recourse.path)[1]\n",
    "ŷ = AlgorithmicRecourse.target_probs(probs(recourse.𝑴, recourse.path'),target)\n",
    "p1 = plot_contour(X',y,𝑴;clegend=false, title=\"Deep ensemble\")\n",
    "anim = @animate for t in 1:T\n",
    "    scatter!(p1, [recourse.path[t,1]], [recourse.path[t,2]], ms=5, color=Int(y̅),label=\"\")\n",
    "    p2 = plot(1:t, ŷ[1:t], xlim=(0,T), ylim=(0, 1), label=\"p(y̲=\" * string(target) * \")\", title=\"Validity\", lc=:black)\n",
    "    Plots.abline!(p2,0,γ,label=\"threshold γ\", ls=:dash) # decision boundary\n",
    "    plot(p1,p2,size=(800,400))\n",
    "end\n",
    "gif(anim, \"www/models_greedy_recourse.gif\", fps=5);"
   ]
  },
  {
   "cell_type": "markdown",
   "metadata": {},
   "source": [
    "![](www/models_greedy_recourse.gif)"
   ]
  }
 ],
 "metadata": {
  "kernelspec": {
   "display_name": "Julia 1.6.4",
   "language": "julia",
   "name": "julia-1.6"
  },
  "language_info": {
   "file_extension": ".jl",
   "mimetype": "application/julia",
   "name": "julia",
   "version": "1.6.4"
  },
  "orig_nbformat": 4
 },
 "nbformat": 4,
 "nbformat_minor": 2
}
