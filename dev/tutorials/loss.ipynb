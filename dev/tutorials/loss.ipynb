{
 "cells": [
  {
   "cell_type": "markdown",
   "metadata": {},
   "source": [
    "```@meta\n",
    "CurrentModule = CounterfactualExplanations \n",
    "```"
   ]
  },
  {
   "cell_type": "markdown",
   "metadata": {},
   "source": [
    "# Loss functions and gradients\n",
    "\n",
    "This is a short tutorial on loss functions and gradients typically involved in counterfactual search. It involves more maths than perhaps some of the other tutorials."
   ]
  },
  {
   "cell_type": "code",
   "execution_count": 31,
   "metadata": {},
   "outputs": [
    {
     "data": {
      "text/plain": [
       "LogLevel(1)"
      ]
     },
     "metadata": {},
     "output_type": "display_data"
    }
   ],
   "source": [
    "using Zygote, Plots, PlotThemes, LinearAlgebra\n",
    "theme(:wong)\n",
    "using Logging\n",
    "disable_logging(Logging.Info)"
   ]
  },
  {
   "cell_type": "markdown",
   "metadata": {},
   "source": [
    "## General setup\n",
    "\n",
    "We begin by restating the general setup for generic counterfactual search. Let $t\\in\\{0,1\\}$ denote the target label, $M$ the model (classifier) and $\\underline{x}\\in\\mathbb{R}^D$ the vector of counterfactual features (we will assume all features are continuous). Then the differentiable optimization problem in algorithmic recourse is generally of the following form\n",
    "\n",
    "```math\n",
    "\\underline{x} = \\arg \\min_{\\underline{x}}  \\ell(M(\\underline{x}),t) + \\lambda h(\\underline{x})\n",
    "```\n",
    "\n",
    "where $\\ell$ denotes some loss function targeting the deviation between the target label and the predicted label and $h(\\cdot)$ acts as a complexity penality generally addressing the *realism* or *cost* of the proposed counterfactual. "
   ]
  },
  {
   "cell_type": "markdown",
   "metadata": {},
   "source": [
    "## Loss function $\\ell$\n",
    "\n",
    "Different choices for $\\ell$ come to mind, each potentially leading to very different counterfactual outcomes. In practice, $\\ell$ is often implemented with respect to the *logits* $a=\\mathbf{w}^Tx$ rather than the probabilities $p(\\underline{y}=1|\\underline{x})=\\sigma(a)$ predicted by the classifier. We follow this convention here, but as we shall see *depeding on the label domain this convention does not work well for every type of loss function*. Common choices for $\\ell$ in the literature include margin-based loss function like **Hinge** loss and **logit binary crossentropy** (or **log**) loss. Some use distance-based loss such as **mean squared error** loss (MSE)."
   ]
  },
  {
   "cell_type": "markdown",
   "metadata": {},
   "source": [
    "### Hinge loss\n",
    "\n",
    "With respect to the logits $a=\\mathbf{w}'x$ Hinge loss can be defined as follows\n",
    "\n",
    "```math\n",
    "\\ell(a,t^*)=(1-a\\cdot t^*)_+=\\max\\{0,1-a\\cdot t^*\\}\n",
    "```\n",
    "\n",
    "where $t^*$ is the target label in $\\{-1,1\\}$. Since above we defined $t\\in\\{0,1\\}$ we need a mapping $h: \\{0,1\\} \\mapsto \\{-1,1\\}$. Specifically, we want to plug in $h(t)=t^*$ where $h(\\cdot)$ is just the following conditional:\n",
    "\n",
    "```math\n",
    "\\begin{aligned}\n",
    "h(t)&=\\begin{cases}\n",
    "-1 && \\text{if} && t=0 \\\\ 1 && \\text{if} && t=1\n",
    "\\end{cases}\n",
    "\\end{aligned}\n",
    "```\n",
    "\n",
    "Then our loss function as function of $t$ can restated as follows:\n",
    "\n",
    "```math\n",
    "\\ell(a,t^*)=\\ell(a,t)=(1-a\\cdot h(t))_+=\\max\\{0,1-a\\cdot h(t)\\}\n",
    "```\n",
    "\n",
    "The first-order derivative of Hinge loss with respect to the logits $a$ is simply\n",
    "\n",
    "```math\n",
    "\\begin{aligned}\n",
    "\\ell'(a,t)&=\\begin{cases}\n",
    "-h(t) && \\text{if} && a \\cdot h(t)<=1 \\\\ 0 && \\text{otherwise.} \n",
    "\\end{cases}\n",
    "\\end{aligned}\n",
    "```\n",
    "\n",
    "In the context of counterfactual search the gradient with respect to the feature vector is then:\n",
    "\n",
    "```math\n",
    "\\begin{aligned}\n",
    "&& \\nabla_{\\underline{x}} \\ell(a,t)&= \\begin{cases}\n",
    "-h(t)\\mathbf{w} && \\text{if} && h(t)\\mathbf{w}^T\\underline{x}<=1 \\\\ 0 && \\text{otherwise.} \n",
    "\\end{cases}\n",
    "\\end{aligned}\n",
    "```\n",
    "\n",
    "In practice gradients are commonly computed through autodifferentiation. In this tutorial we use the [Zygote.jl](https://github.com/FluxML/Zygote.jl) package which is at the core of [Flux.jl](https://fluxml.ai/Flux.jl/stable/models/basics/), the main deep learning library for Julia.\n",
    "\n",
    "The side-by-side plot below visualises the loss function and its derivative. The plot further below serves as a simple sanity check to verify that autodifferentiation indeed yields the same result as the closed-form solution for the gradient."
   ]
  },
  {
   "cell_type": "code",
   "execution_count": 32,
   "metadata": {},
   "outputs": [
    {
     "data": {
      "text/plain": [
       "hinge (generic function with 1 method)"
      ]
     },
     "metadata": {},
     "output_type": "display_data"
    }
   ],
   "source": [
    "h(t) = ifelse(t==1,1,-1)\n",
    "hinge(a,t) = max(0,1-a*h(t))"
   ]
  },
  {
   "cell_type": "code",
   "execution_count": 33,
   "metadata": {},
   "outputs": [],
   "source": [
    "default(size=(500,500))\n",
    "a = -2:0.05:2\n",
    "p1 = plot(a, [hinge(a,1) for a=a], title=\"Loss, t=1\", xlab=\"logits\")\n",
    "p2 = plot(a, [gradient(hinge,a,1)[1] for a=a], title=\"Gradient, t=1\", xlab=\"logits\")\n",
    "p3 = plot(a, [hinge(a,0) for a=a], title=\"Loss, t=0\", xlab=\"logits\")\n",
    "p4 = plot(a, [gradient(hinge,a,0)[1] for a=a], title=\"Gradient, t=0\", xlab=\"logits\")\n",
    "plot(p1, p2, p3, p4, layout = (2, 2), legend = false)\n",
    "savefig(\"www/loss_grad_hinge.png\")"
   ]
  },
  {
   "cell_type": "markdown",
   "metadata": {},
   "source": [
    "![](www/loss_grad_hinge.png)"
   ]
  },
  {
   "cell_type": "code",
   "execution_count": 34,
   "metadata": {},
   "outputs": [],
   "source": [
    "# Just verifying that the formula for the gradient above indeed yields the same result.\n",
    "function gradient_man(x,w,t)\n",
    "    𝐠 = ifelse(h(t)*w'x<=1, -h(t)*w, 0)\n",
    "    return 𝐠\n",
    "end;\n",
    "plot(a, [gradient_man(a,1,1) for a=a], legend=:bottomright, label=\"Manual\", title=\"Gradient\", xlab=\"logits\")\n",
    "scatter!(a, [gradient(hinge,a,1)[1] for a=a], label=\"Autodiff\")\n",
    "savefig(\"www/loss_grad_hinge_test.png\")"
   ]
  },
  {
   "cell_type": "markdown",
   "metadata": {},
   "source": [
    "![](www/loss_grad_hinge_test.png)"
   ]
  },
  {
   "cell_type": "markdown",
   "metadata": {},
   "source": [
    "### Logit binary crossentropy loss\n",
    "\n",
    "Logit binary crossentropy loss loss (sometimes referred to as log loss) is defined as follows:\n",
    "\n",
    "```math\n",
    "\\begin{aligned}\n",
    "&& \\ell(a,t)&=- \\left( t \\cdot \\log(\\sigma(a)) + (1-t) \\cdot \\log (1-\\sigma(a)) \\right) \\\\\n",
    "\\end{aligned}\n",
    "```\n",
    "\n",
    "where $\\sigma(a)$ is the logit/sigmoid link function.\n",
    "\n",
    "Once again for the purpose of counter factual search we are interested in the first-order derivative with respect to our feature vector $\\underline{x}$. You can verify that the partial derivative with respect to feature $\\underline{x}_d$ is as follows:\n",
    "\n",
    "```math\n",
    "\\begin{aligned}\n",
    "&& \\frac{\\partial \\ell(a,t)}{\\partial \\underline{x}_d}&= (\\sigma(a) - t) w_d \\\\\n",
    "\\end{aligned}\n",
    "```\n",
    "\n",
    "The gradient just corresponds to the stacked vector of partial derivatives:\n",
    "\n",
    "```math\n",
    "\\begin{aligned}\n",
    "&& \\nabla_{\\underline{x}} \\ell(a,t)&= (\\sigma(a) - t) \\mathbf{w} \\\\\n",
    "\\end{aligned}\n",
    "```\n",
    "\n",
    "As before implementation below is done through autodifferentiation. As before the side-by-side plot shows the resulting loss function and its gradient and the plot further below is a simple sanity check."
   ]
  },
  {
   "cell_type": "code",
   "execution_count": 35,
   "metadata": {},
   "outputs": [
    {
     "data": {
      "text/plain": [
       "logitbinarycrossentropy (generic function with 1 method)"
      ]
     },
     "metadata": {},
     "output_type": "display_data"
    }
   ],
   "source": [
    "# sigmoid function:\n",
    "function 𝛔(a)\n",
    "    trunc = 8.0 # truncation to avoid numerical over/underflow\n",
    "    a = clamp.(a,-trunc,trunc)\n",
    "    p = exp.(a)\n",
    "    p = p ./ (1 .+ p)\n",
    "    return p\n",
    "end\n",
    "\n",
    "# Logit binary crossentropy:\n",
    "logitbinarycrossentropy(a, t) = - (t * log(𝛔(a)) + (1-t) * log(1-𝛔(a)))"
   ]
  },
  {
   "cell_type": "markdown",
   "metadata": {},
   "source": [
    "![](www/loss_grad_log.png)"
   ]
  },
  {
   "cell_type": "code",
   "execution_count": 36,
   "metadata": {},
   "outputs": [],
   "source": [
    "p1 = plot(a, [logitbinarycrossentropy(a,1) for a=a], title=\"Loss, t=1\", xlab=\"logits\")\n",
    "p2 = plot(a, [gradient(logitbinarycrossentropy,a,1)[1] for a=a], title=\"Gradient, t=1\", xlab=\"logits\")\n",
    "p3 = plot(a, [logitbinarycrossentropy(a,0) for a=a], title=\"Loss, t=0\", xlab=\"logits\")\n",
    "p4 = plot(a, [gradient(logitbinarycrossentropy,a,0)[1] for a=a], title=\"Gradient, t=0\", xlab=\"logits\")\n",
    "plot(p1, p2, p3, p4, layout = (2, 2), legend = false)\n",
    "savefig(\"www/loss_grad_log.png\")"
   ]
  },
  {
   "cell_type": "markdown",
   "metadata": {},
   "source": [
    "![](www/loss_grad_log_test.png)"
   ]
  },
  {
   "cell_type": "code",
   "execution_count": 37,
   "metadata": {},
   "outputs": [],
   "source": [
    "# Just verifying that the formula for the gradient above indeed yields the same result.\n",
    "function gradient_man(x,w,y)\n",
    "    𝐠 = (𝛔(w'x) - y) .* w\n",
    "    return 𝐠\n",
    "end;\n",
    "plot(a, [gradient_man(a,1,1) for a=a], legend=:bottomright, label=\"Manual\", title=\"Gradient\", xlab=\"logits\")\n",
    "scatter!(a, [gradient(logitbinarycrossentropy,a,1)[1] for a=a], label=\"Autodiff\")\n",
    "savefig(\"www/loss_grad_log_test.png\")"
   ]
  },
  {
   "cell_type": "markdown",
   "metadata": {},
   "source": [
    "### Mean squared error\n",
    "\n",
    "Some authors work with distance-based loss functions instead. Since in general we are interested in providing valid recourse, that is counterfactual explanations that indeed lead to the desired label switch, using one of the margin-based loss functions introduced above seems like a more natural choice. Nonetheless, we shall briefly introduce one of the common distance-based loss functions as well. \n",
    "\n",
    "The mean squared error for counterfactual search implemented with respect to the logits is simply the squared $\\ell^2$ norm between the target label and $a=\\mathbf{w}^Tx$:\n",
    "\n",
    "```math\n",
    "\\begin{aligned}\n",
    "&& \\ell(a,t)&= ||t-a||^2\n",
    "\\end{aligned}\n",
    "```\n",
    "\n",
    "The gradient with respect to the vector of features is then:\n",
    "\n",
    "```math\n",
    "\\begin{aligned}\n",
    "&& \\nabla_{\\underline{x}} \\ell(a,t)&= 2(a - t) \\mathbf{w} \\\\\n",
    "\\end{aligned}\n",
    "```\n",
    "\n",
    "As before implementation and visualizations follow below."
   ]
  },
  {
   "cell_type": "code",
   "execution_count": 38,
   "metadata": {},
   "outputs": [
    {
     "data": {
      "text/plain": [
       "mse (generic function with 1 method)"
      ]
     },
     "metadata": {},
     "output_type": "display_data"
    }
   ],
   "source": [
    "mse(a,t) = norm(t - a)^2"
   ]
  },
  {
   "cell_type": "markdown",
   "metadata": {},
   "source": [
    "**NOTE**: I hinted above that the convention of taking derivatives with respect to logits can go wrong depending on the loss function we choose. The plot below demonstrates this point: for $t=0$ the global minimum of the MSE is of course also at $0$. The implication for counterfactual search is that for $t=0$ the search stops when $\\mathbf{w}^T\\underline{x}=0$. But at this point $\\sigma(\\mathbf{w}^T\\underline{x})=0.5$, in other words we stop right at the decision boundary, but never cross it. We will see an example of this below. Key takeaway: carefully think about the choice of your loss function and **DON'T** us distance-based loss functions when optimizing with respect to logits."
   ]
  },
  {
   "cell_type": "code",
   "execution_count": 39,
   "metadata": {},
   "outputs": [],
   "source": [
    "p1 = plot(a, [mse(a,1) for a=a], title=\"Loss, t=1\", xlab=\"logits\")\n",
    "p2 = plot(a, [gradient(mse,a,1)[1] for a=a], title=\"Gradient, t=1\", xlab=\"logits\")\n",
    "p3 = plot(a, [mse(a,0) for a=a], title=\"Loss, t=0\", xlab=\"logits\")\n",
    "p4 = plot(a, [gradient(mse,a,0)[1] for a=a], title=\"Gradient, t=0\", xlab=\"logits\")\n",
    "plot(p1, p2, p3, p4, layout = (2, 2), legend = false)\n",
    "savefig(\"www/loss_grad_mse.png\")"
   ]
  },
  {
   "cell_type": "markdown",
   "metadata": {},
   "source": [
    "![](www/loss_grad_mse.png)"
   ]
  },
  {
   "cell_type": "code",
   "execution_count": 40,
   "metadata": {},
   "outputs": [],
   "source": [
    "# Just verifying that the formula for the gradient above indeed yields the same result.\n",
    "function gradient_man(x,w,y)\n",
    "    𝐠 = 2*(w'x - y) .* w\n",
    "    return 𝐠\n",
    "end;\n",
    "plot(a, [gradient_man(a,1,1) for a=a], legend=:bottomright, label=\"Manual\", title=\"Gradient\", xlab=\"logits\")\n",
    "scatter!(a, [gradient(mse,a,1)[1] for a=a], label=\"Autodiff\")\n",
    "savefig(\"www/loss_grad_mse_test.png\")"
   ]
  },
  {
   "cell_type": "markdown",
   "metadata": {},
   "source": [
    "![](www/loss_grad_mse_test.png)"
   ]
  },
  {
   "cell_type": "markdown",
   "metadata": {},
   "source": [
    "## Example in 2D\n",
    "\n",
    "To understand the properties of the different loss functions we will now look at a toy example in 2D. The code below generates some random features and assigns labels based on a fixed vector of coefficients using the sigmoid function."
   ]
  },
  {
   "cell_type": "code",
   "execution_count": 41,
   "metadata": {},
   "outputs": [],
   "source": [
    "# Some random data:\n",
    "using Flux\n",
    "using Random\n",
    "Random.seed!(1234);\n",
    "N = 25\n",
    "w = [1.0 -2.0]# true coefficients\n",
    "b = 0\n",
    "X = reshape(randn(2*N),2,N).*1 # random features\n",
    "y = Int.(round.(Flux.σ.(w*X .+ b))); # label based on sigmoid"
   ]
  },
  {
   "cell_type": "markdown",
   "metadata": {},
   "source": [
    "The plot below shows the samples coloured by label along with the decision boundary. You can think of this as representing the outcome of some automated decision making system. The highlighted sample was chosen to receive algorithmic recourse in the following: we will search for a counterfactual that leads to a label switch."
   ]
  },
  {
   "cell_type": "code",
   "execution_count": 42,
   "metadata": {},
   "outputs": [],
   "source": [
    "# Plot with random sample chose for recourse\n",
    "function plot_data(;clegend=true,title=\"\",size=1.2.*(400,300))\n",
    "    x_range = collect(range(minimum(X[1,:]),stop=maximum(X[1,:]),length=50))\n",
    "    y_range = collect(range(minimum(X[2,:]),stop=maximum(X[2,:]),length=50))\n",
    "    Z = [Flux.σ.(w * [x,y] .+ b)[1] for x=x_range, y=y_range]\n",
    "    plt = contourf(\n",
    "        x_range, y_range, Z', legend=clegend, title=title, size=size, lw=0.1\n",
    "    )\n",
    "    scatter!(plt, X[1,reshape(y.==1,25)],X[2,reshape(y.==1,25)],label=\"y=1\",color=1) # features\n",
    "    scatter!(plt, X[1,reshape(y.==0,25)],X[2,reshape(y.==0,25)],label=\"y=0\",color=0) # features\n",
    "    Plots.abline!(plt,0.5,b,color=\"black\",label=\"\",lw=2) # decision boundary\n",
    "    return plt\n",
    "end\n",
    "\n",
    "plt = plot_data()\n",
    "x̅ = X[:,5]\n",
    "y̅ = round.(Flux.σ.(w*x̅ .+ b))[1]\n",
    "scatter!(plt,[x̅[1]],[x̅[2]],color=Int.(y̅),markersize=10,label=\"\")\n",
    "savefig(plt, \"www/loss_examlpe.png\")"
   ]
  },
  {
   "cell_type": "markdown",
   "metadata": {},
   "source": [
    "![](www/loss_examlpe.png)"
   ]
  },
  {
   "cell_type": "markdown",
   "metadata": {},
   "source": [
    "Next we will generating recourse using the CounterfactualExplanations.jl package. First we intantiate our model and based on the assigned label we identify the target (the opposite label)."
   ]
  },
  {
   "cell_type": "code",
   "execution_count": 43,
   "metadata": {},
   "outputs": [
    {
     "data": {
      "text/plain": [
       "0.75"
      ]
     },
     "metadata": {},
     "output_type": "display_data"
    }
   ],
   "source": [
    "using CounterfactualExplanations\n",
    "using CounterfactualExplanations.Models: LogisticModel\n",
    "𝑴 = LogisticModel(w, [b]);\n",
    "target = ifelse(y̅==1.0,0.0,1.0)\n",
    "γ = 0.75"
   ]
  },
  {
   "cell_type": "markdown",
   "metadata": {},
   "source": [
    "Now we instantiate different generators for our different loss functions and different choices of $\\lambda$. Finally we generate recourse for each of them:"
   ]
  },
  {
   "cell_type": "code",
   "execution_count": 44,
   "metadata": {},
   "outputs": [],
   "source": [
    "# Generating recourse\n",
    "Λ = [0, 1, 5] # varying complexity penalties\n",
    "losses = [:hinge_loss, :logitbinarycrossentropy, :mse]\n",
    "recourses = []\n",
    "for loss in losses\n",
    "    for λ in Λ\n",
    "        gen = GenericGenerator(λ,0.1,1e-5,loss,nothing) \n",
    "        rec = generate_recourse(gen, x̅, 𝑴, target, γ, T=25)\n",
    "        recourses = vcat(recourses, (rec=rec, λ=λ, loss=loss))\n",
    "    end\n",
    "end"
   ]
  },
  {
   "cell_type": "markdown",
   "metadata": {},
   "source": [
    "The code below plots the resulting counterfactual paths. \n",
    "\n",
    "1. **Complexity penalty $\\lambda$**: has the expected effect of penalizing *long* counterfactual paths: as the distance between $\\overline{x}$ and $\\underline{x}$ the penalty exerts more and more pressure on the gradient in the opposite direction $\\nabla\\ell$. For large choices of $\\lambda$ valid recourse is not attainable.\n",
    "2. **Confidence threshold $\\gamma$**: note how for both log loss and hinge loss we overshoot a bit, that is we end up well beyond the decision boundary. This is because above we chose a confidence threshold of $\\gamma=0.75$. In the context of recourse this choice matters a lot: we have a longer distance to travel (=higher costs for the individual), but we can be more confident that recourse will remain valid. There is of course an interplay between $\\lambda$ and $\\gamma$.\n",
    "3. **The choice of the loss function matters**: the distance-based MSE does **NOT** work without further ajustments when optimizing with respect to logits, as discussed above. \n",
    "\n",
    "Overall, in the context of this toy example log **loss arguably generates the most reasonable outcome**: firstly, we can observe that the step size decreases at an increasing rate as the search approaches convergence (which may be desirable); secondly, it appears that increasing $\\lambda$ leads to a roughly proportional decrease in the distance of the final counterfactual. This stands in contrast to the outcome for Hinge loss, where increasing $\\lambda$ from $0$ to $1$ barely has any effect at all."
   ]
  },
  {
   "cell_type": "code",
   "execution_count": 45,
   "metadata": {},
   "outputs": [],
   "source": [
    "# Plotting\n",
    "k = length(recourses)\n",
    "function plot_recourse(rec, idx)\n",
    "    plt = plot_data(clegend=false, size=(floor(sqrt(k)) * 350, ceil(sqrt(k)) * 350))\n",
    "    idx_path = minimum([idx, size(rec.rec.path)[1]])\n",
    "    scatter!(plt, rec.rec.path[1:idx_path,1], rec.rec.path[1:idx_path,2], color=Int(y̅))\n",
    "    scatter!(plt, [rec.rec.path[idx_path,1]],[rec.rec.path[idx_path,2]],color=Int(y̅),markersize=10)\n",
    "end\n",
    "max_path_length = maximum(map(rec -> size(rec.rec.path)[1], recourses))\n",
    "anim = @animate for i in 1:max_path_length\n",
    "    plots = map(rec -> plot_recourse(rec, i), recourses);\n",
    "    plot(plots..., layout = (Int(floor(sqrt(k))), Int(ceil(sqrt(k)))), legend = false, plot_title=\"Iteration: \" * string(i))\n",
    "end\n",
    "gif(anim, \"www/loss_paths.gif\", fps=5);"
   ]
  },
  {
   "cell_type": "markdown",
   "metadata": {},
   "source": [
    "![](www/loss_paths.gif)"
   ]
  }
 ],
 "metadata": {
  "kernelspec": {
   "display_name": "Julia 1.6.4",
   "language": "julia",
   "name": "julia-1.6"
  },
  "language_info": {
   "file_extension": ".jl",
   "mimetype": "application/julia",
   "name": "julia",
   "version": "1.6.4"
  },
  "orig_nbformat": 4
 },
 "nbformat": 4,
 "nbformat_minor": 2
}
