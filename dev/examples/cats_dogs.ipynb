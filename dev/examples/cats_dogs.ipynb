{
 "cells": [
  {
   "cell_type": "markdown",
   "metadata": {},
   "source": [
    "# From cat to dog\n",
    "\n",
    "#### *A simple and light-hearted motivating example for algorithmic recourse*"
   ]
  },
  {
   "cell_type": "code",
   "execution_count": 27,
   "metadata": {},
   "outputs": [
    {
     "name": "stderr",
     "output_type": "stream",
     "text": [
      "\u001b[32m\u001b[1m  Activating\u001b[22m\u001b[39m environment at `~/Documents/code/AlgorithmicRecourse.jl/docs/Project.toml`\n"
     ]
    }
   ],
   "source": [
    "using Pkg; Pkg.activate(\"../..\")"
   ]
  },
  {
   "cell_type": "code",
   "execution_count": 28,
   "metadata": {},
   "outputs": [],
   "source": [
    "using CounterfactualExplanations, Flux\n",
    "data = CounterfactualExplanations.Data.cats_dogs()\n",
    "X, y = values(data)\n",
    "cats = findall(y.==0)\n",
    "dogs = findall(y.==1)\n",
    "x = Flux.unstack(X,2)\n",
    "data = zip(x,y);"
   ]
  },
  {
   "cell_type": "code",
   "execution_count": 29,
   "metadata": {},
   "outputs": [],
   "source": [
    "using Images, FileIO, GLMakie\n",
    "cat = load(\"www/cat.png\")\n",
    "dog = load(\"www/dog.png\")\n",
    "ms = 50\n",
    "marker = map(y -> y==0 ? cat : dog,y);"
   ]
  },
  {
   "cell_type": "code",
   "execution_count": 30,
   "metadata": {},
   "outputs": [],
   "source": [
    "using GLMakie\n",
    "plt = scatter(X[1,cats],X[2,cats],marker=cat,markersize=ms)\n",
    "scatter!(X[1,dogs],X[2,dogs],marker=dog,markersize=ms)\n",
    "save(\"www/samples.png\", plt);"
   ]
  },
  {
   "cell_type": "markdown",
   "metadata": {},
   "source": [
    "![](www/samples.png)"
   ]
  },
  {
   "cell_type": "markdown",
   "metadata": {},
   "source": [
    "## The black-box systems"
   ]
  },
  {
   "cell_type": "markdown",
   "metadata": {},
   "source": [
    "### MLP"
   ]
  },
  {
   "cell_type": "code",
   "execution_count": 31,
   "metadata": {},
   "outputs": [],
   "source": [
    "nn = Chain(Dense(2,1))\n",
    "λ = 1\n",
    "sqnorm(x) = sum(abs2, x)\n",
    "weight_regularization(λ=λ) = 1/2 * λ^2 * sum(sqnorm, Flux.params(nn))\n",
    "loss(x, y) = Flux.Losses.logitbinarycrossentropy(nn(x), y) + weight_regularization();"
   ]
  },
  {
   "cell_type": "code",
   "execution_count": 32,
   "metadata": {},
   "outputs": [],
   "source": [
    "using Flux.Optimise: update!, ADAM\n",
    "using Statistics\n",
    "opt = ADAM()\n",
    "epochs = 10\n",
    "\n",
    "for epoch = 1:epochs\n",
    "  for d in data\n",
    "    gs = gradient(params(nn)) do\n",
    "      l = loss(d...)\n",
    "    end\n",
    "    update!(opt, params(nn), gs)\n",
    "  end\n",
    "end"
   ]
  },
  {
   "cell_type": "code",
   "execution_count": 33,
   "metadata": {},
   "outputs": [],
   "source": [
    "using CounterfactualExplanations, CounterfactualExplanations.Models\n",
    "import CounterfactualExplanations.Models: logits, probs # import functions in order to extend\n",
    "\n",
    "# Step 1)\n",
    "struct NeuralNetwork <: Models.FittedModel\n",
    "    nn::Any\n",
    "end\n",
    "\n",
    "# Step 2)\n",
    "logits(𝑴::NeuralNetwork, X::AbstractArray) = 𝑴.nn(X)\n",
    "probs(𝑴::NeuralNetwork, X::AbstractArray)= σ.(logits(𝑴, X))\n",
    "𝑴 = NeuralNetwork(nn);"
   ]
  },
  {
   "cell_type": "markdown",
   "metadata": {},
   "source": [
    "### Laplace approximation"
   ]
  },
  {
   "cell_type": "code",
   "execution_count": 34,
   "metadata": {},
   "outputs": [],
   "source": [
    "# using BayesLaplace\n",
    "# la = laplace(nn, λ=λ)\n",
    "# fit!(la, data);"
   ]
  },
  {
   "cell_type": "code",
   "execution_count": 35,
   "metadata": {},
   "outputs": [],
   "source": [
    "# # Step 1)\n",
    "# struct LaplaceNeuralNetwork <: Models.FittedModel\n",
    "#     la::BayesLaplace.LaplaceRedux\n",
    "# end\n",
    "\n",
    "# # Step 2)\n",
    "# logits(𝑴::LaplaceNeuralNetwork, X::AbstractArray) = 𝑴.la.model(X)\n",
    "# probs(𝑴::LaplaceNeuralNetwork, X::AbstractArray)= BayesLaplace.predict(𝑴.la, X)\n",
    "# 𝑴ᴸ = LaplaceNeuralNetwork(la);"
   ]
  },
  {
   "cell_type": "code",
   "execution_count": 36,
   "metadata": {},
   "outputs": [
    {
     "data": {
      "text/plain": [
       "plot_contour_makie (generic function with 1 method)"
      ]
     },
     "metadata": {},
     "output_type": "display_data"
    }
   ],
   "source": [
    "using GLMakie\n",
    "function plot_contour_makie(X,y,𝑴;clegend=true,title=\"\",length_out=50,zoom=-1,xlim=nothing,ylim=nothing,linewidth=0.1)\n",
    "    \n",
    "    # Surface range:\n",
    "    if isnothing(xlim)\n",
    "        xlim = (minimum(X[:,1]),maximum(X[:,1])).+(zoom,-zoom)\n",
    "    else\n",
    "        xlim = xlim .+ (zoom,-zoom)\n",
    "    end\n",
    "    if isnothing(ylim)\n",
    "        ylim = (minimum(X[:,2]),maximum(X[:,2])).+(zoom,-zoom)\n",
    "    else\n",
    "        ylim = ylim .+ (zoom,-zoom)\n",
    "    end\n",
    "    x_range = collect(range(xlim[1],stop=xlim[2],length=length_out))\n",
    "    y_range = collect(range(ylim[1],stop=ylim[2],length=length_out))\n",
    "    Z = [Models.probs(𝑴,[x, y])[1] for x=x_range, y=y_range]\n",
    "\n",
    "    # Plot:\n",
    "    plt = contourf(\n",
    "        x_range, y_range, Z; \n",
    "        colorbar=clegend, title=title, linewidth=linewidth,\n",
    "        xlim=xlim,\n",
    "        ylim=ylim\n",
    "    )\n",
    "    \n",
    "    scatter!(X'[1,cats],X'[2,cats],marker=cat,markersize=ms)\n",
    "    scatter!(X'[1,dogs],X'[2,dogs],marker=dog,markersize=ms)\n",
    "\n",
    "    return plt\n",
    "end"
   ]
  },
  {
   "cell_type": "code",
   "execution_count": 37,
   "metadata": {},
   "outputs": [
    {
     "data": {
      "text/plain": [
       "GLMakie.Screen(...)"
      ]
     },
     "metadata": {},
     "output_type": "display_data"
    }
   ],
   "source": [
    "plt = plot_contour_makie(X',y,𝑴,title=\"MLP\")\n",
    "save(\"www/predictive_mlp.png\", plt)\n",
    "# plt = plot_contour_makie(X',y,𝑴ᴸ,title=\"Laplace\")\n",
    "# save(\"www/predictive_laplace.png\", plt)"
   ]
  },
  {
   "cell_type": "markdown",
   "metadata": {},
   "source": [
    "### Generating recourse"
   ]
  },
  {
   "cell_type": "code",
   "execution_count": 38,
   "metadata": {},
   "outputs": [],
   "source": [
    "using Random\n",
    "Random.seed!(1234)\n",
    "cats = findall(y.==0)\n",
    "x̅ = X[:,rand(cats)]\n",
    "y̅ = 0.0\n",
    "target = 1.0 # opposite label as target\n",
    "γ = 0.75; # desired level of confidence"
   ]
  },
  {
   "cell_type": "code",
   "execution_count": 39,
   "metadata": {},
   "outputs": [],
   "source": [
    "generator = GenericGenerator(0.01,2,1e-5,:logitbinarycrossentropy,nothing)\n",
    "recourse = generate_counterfactual(generator, x̅, 𝑴, target, γ); # generate recourse"
   ]
  },
  {
   "cell_type": "code",
   "execution_count": 40,
   "metadata": {},
   "outputs": [
    {
     "data": {
      "text/plain": [
       "GLMakie.Screen(...)"
      ]
     },
     "metadata": {},
     "output_type": "display_data"
    }
   ],
   "source": [
    "T = size(recourse.path)[1]\n",
    "X_path = reduce(hcat,recourse.path)\n",
    "ŷ = CounterfactualExplanations.target_probs(probs(recourse.𝑴, X_path),target)\n",
    "plt = plot_contour_makie(X',y,𝑴)\n",
    "for t in 1:T\n",
    "    scatter!([recourse.path[t][1]], [recourse.path[t][2]],marker=cat,markersize=ms)    \n",
    "end\n",
    "save(\"www/recourse_mlp.png\",plt)"
   ]
  },
  {
   "cell_type": "code",
   "execution_count": 41,
   "metadata": {},
   "outputs": [
    {
     "data": {
      "text/plain": [
       "\"www/recourse_mlp.gif\""
      ]
     },
     "metadata": {},
     "output_type": "display_data"
    }
   ],
   "source": [
    "T = size(recourse.path)[1]\n",
    "X_path = reduce(hcat,recourse.path)\n",
    "ŷ = CounterfactualExplanations.target_probs(probs(recourse.𝑴, X_path),target)\n",
    "fig, ax, contourplot = plot_contour_makie(X',y,𝑴)\n",
    "\n",
    "# animation settings\n",
    "timestamps = range(1, T, step=1)\n",
    "\n",
    "record(fig, \"www/recourse_mlp.gif\", timestamps; framerate = 30) do t\n",
    "    scatter!([recourse.path[Int(t)][1]], [recourse.path[Int(t)][2]],marker=cat,markersize=ms)\n",
    "end"
   ]
  },
  {
   "cell_type": "code",
   "execution_count": 42,
   "metadata": {},
   "outputs": [],
   "source": [
    "# generator = GreedyGenerator(1,30,:logitbinarycrossentropy,nothing)\n",
    "# recourse = generate_counterfactual(generator, x̅, 𝑴ᴸ, target, γ); # generate recourse"
   ]
  },
  {
   "cell_type": "code",
   "execution_count": 43,
   "metadata": {},
   "outputs": [
    {
     "data": {
      "text/plain": [
       "GLMakie.Screen(...)"
      ]
     },
     "metadata": {},
     "output_type": "display_data"
    }
   ],
   "source": [
    "# T = size(recourse.path)[1]\n",
    "# X_path = reduce(hcat,recourse.path)\n",
    "# ŷ = CounterfactualExplanations.target_probs(probs(recourse.𝑴, X_path),target)\n",
    "# plt = plot_contour_makie(X',y,𝑴ᴸ)\n",
    "# for t in 1:T\n",
    "#     scatter!([recourse.path[t][1]], [recourse.path[t][2]],marker=cat,markersize=ms)    \n",
    "# end\n",
    "# save(\"www/recourse_laplace.png\",plt)"
   ]
  },
  {
   "cell_type": "code",
   "execution_count": 45,
   "metadata": {},
   "outputs": [
    {
     "data": {
      "text/plain": [
       "\"www/recourse_laplace.gif\""
      ]
     },
     "metadata": {},
     "output_type": "display_data"
    }
   ],
   "source": [
    "# T = size(recourse.path)[1]\n",
    "# X_path = reduce(hcat,recourse.path)\n",
    "# ŷ = CounterfactualExplanations.target_probs(probs(recourse.𝑴, X_path),target)\n",
    "# fig, ax, contourplot = plot_contour_makie(X',y,𝑴ᴸ)\n",
    "\n",
    "# # animation settings\n",
    "# timestamps = range(1, T, step=1)\n",
    "\n",
    "# record(fig, \"www/recourse_laplace.gif\", timestamps; framerate = 15) do t\n",
    "#     scatter!([recourse.path[Int(t)][1]], [recourse.path[Int(t)][2]],marker=cat,markersize=ms)\n",
    "# end"
   ]
  }
 ],
 "metadata": {
  "kernelspec": {
   "display_name": "Julia 1.6.4",
   "language": "julia",
   "name": "julia-1.6"
  },
  "language_info": {
   "file_extension": ".jl",
   "mimetype": "application/julia",
   "name": "julia",
   "version": "1.6.4"
  },
  "orig_nbformat": 4
 },
 "nbformat": 4,
 "nbformat_minor": 2
}
