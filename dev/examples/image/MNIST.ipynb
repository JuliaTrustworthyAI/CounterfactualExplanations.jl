{
 "cells": [
  {
   "cell_type": "code",
   "execution_count": null,
   "metadata": {},
   "outputs": [],
   "source": [
    "---\n",
    "format: \n",
    "    commonmark:\n",
    "        variant: -raw_html\n",
    "        wrap: none\n",
    "        self-contained: true\n",
    "crossref:\n",
    "  fig-prefix: Figure\n",
    "  tbl-prefix: Table\n",
    "bibliography: https://raw.githubusercontent.com/pat-alt/bib/main/bib.bib\n",
    "output: asis\n",
    "---"
   ]
  },
  {
   "cell_type": "markdown",
   "metadata": {},
   "source": [
    "```@meta\n",
    "CurrentModule = CounterfactualExplanations \n",
    "```"
   ]
  },
  {
   "cell_type": "markdown",
   "metadata": {},
   "source": [
    "# MNIST\n",
    "\n",
    "In this examples we will see how different counterfactual generators can be used to explain deep learning models for image classification. In particular, we will look at MNIST data and visually inspect how the different generators perturb images of handwritten digits in order to change the predicted label to a target label. @fig-samples shows a random sample of handwritten digits."
   ]
  },
  {
   "cell_type": "code",
   "execution_count": 25,
   "metadata": {},
   "outputs": [],
   "source": [
    "using CounterfactualExplanations, Plots, MLDatasets\n",
    "using MLDatasets.MNIST: convert2image\n",
    "using BSON: @save, @load"
   ]
  },
  {
   "cell_type": "code",
   "execution_count": 26,
   "metadata": {},
   "outputs": [],
   "source": [
    "train_x, train_y = MNIST.traindata()\n",
    "input_dim = prod(size(train_x[:,:,1]))\n",
    "using Images, Random, StatsBase\n",
    "Random.seed!(1)\n",
    "n_samples = 10\n",
    "samples = train_x[:,:,sample(1:end, n_samples, replace=false)]\n",
    "mosaic = mosaicview([convert2image(samples[:,:,i]) for i ∈ 1:n_samples]...,ncol=Int(n_samples/2))\n",
    "plt = plot(mosaic, size=(500,260), axis=nothing, background=:transparent)\n",
    "savefig(plt, \"www/mnist_samples.png\")"
   ]
  },
  {
   "cell_type": "markdown",
   "metadata": {},
   "source": [
    "![A few random handwritten digits.](www/mnist_samples.png){#fig-samples}"
   ]
  },
  {
   "cell_type": "markdown",
   "metadata": {},
   "source": [
    "## Pre-trained classifiers"
   ]
  },
  {
   "cell_type": "markdown",
   "metadata": {},
   "source": [
    "Next we will load two pre-trained deep-learning classifiers:\n",
    "\n",
    "1. Simple MLP - `model`\n",
    "2. Deep ensemble - `𝓜`"
   ]
  },
  {
   "cell_type": "code",
   "execution_count": 39,
   "metadata": {},
   "outputs": [],
   "source": [
    "using Flux\n",
    "using CounterfactualExplanations.Data: mnist_data, mnist_model, mnist_ensemble\n",
    "x,y,data = getindex.(Ref(mnist_data()), (\"x\", \"y\", \"data\"))\n",
    "model = mnist_model()\n",
    "𝓜 = mnist_ensemble();"
   ]
  },
  {
   "cell_type": "markdown",
   "metadata": {},
   "source": [
    "The following code just prepares the models to be used with CounterfactualExplanations.jl:"
   ]
  },
  {
   "cell_type": "code",
   "execution_count": 28,
   "metadata": {},
   "outputs": [],
   "source": [
    "using CounterfactualExplanations, CounterfactualExplanations.Models\n",
    "import CounterfactualExplanations.Models: logits, probs # import functions in order to extend\n",
    "\n",
    "# MLP:\n",
    "# Step 1)\n",
    "struct NeuralNetwork <: Models.FittedModel\n",
    "    nn::Any\n",
    "end\n",
    "# Step 2)\n",
    "logits(𝑴::NeuralNetwork, X::AbstractArray) = 𝑴.nn(X)\n",
    "probs(𝑴::NeuralNetwork, X::AbstractArray)= softmax(logits(𝑴, X))\n",
    "𝑴 = NeuralNetwork(model)\n",
    "\n",
    "# Deep ensemble:\n",
    "# Step 1)\n",
    "struct FittedEnsemble <: Models.FittedModel\n",
    "    𝓜::AbstractArray\n",
    "end\n",
    "# Step 2)\n",
    "using Statistics\n",
    "logits(𝑴::FittedEnsemble, X::AbstractArray) = mean(Flux.stack([nn(X) for nn in 𝑴.𝓜],3), dims=3)\n",
    "probs(𝑴::FittedEnsemble, X::AbstractArray) = mean(Flux.stack([softmax(nn(X)) for nn in 𝑴.𝓜],3),dims=3)\n",
    "𝑴_ensemble=FittedEnsemble(𝓜);"
   ]
  },
  {
   "cell_type": "markdown",
   "metadata": {},
   "source": [
    "## Generating counterfactuals"
   ]
  },
  {
   "cell_type": "markdown",
   "metadata": {},
   "source": [
    "We will look at four different approaches here: \n",
    "\n",
    "1. Generic approach for the MLP [@wachter2017counterfactual].\n",
    "2. Greedy approach for the MLP.\n",
    "3. Generic approach for the deep ensemble.\n",
    "4. Greedy approach for the deep ensemble [@schut2021generating].\n",
    "\n",
    "They can be implemented using the `GenericGenerator` and the `GreedyGenerator`."
   ]
  },
  {
   "cell_type": "markdown",
   "metadata": {},
   "source": [
    "### Turning a 9 into a 4\n",
    "\n",
    "We will start with an example that should yield intuitive results: the process of turning a handwritten 9 in @fig-nine into a 4 is straight-forward for a human - just erase the top part. Let's see how the different algorithmic approaches perform."
   ]
  },
  {
   "cell_type": "code",
   "execution_count": 29,
   "metadata": {},
   "outputs": [],
   "source": [
    "# Randomly selected factual:\n",
    "Random.seed!(1234);\n",
    "x̅ = Flux.unsqueeze(x[:,rand(1:size(x)[2])],2)\n",
    "target = 5\n",
    "γ = 0.95\n",
    "img = convert2image(reshape(x̅,Int(sqrt(input_dim)),Int(sqrt(input_dim))))\n",
    "plt_orig = plot(img, title=\"Original\", axis=nothing)\n",
    "savefig(plt_orig, \"www/mnist_original.png\")"
   ]
  },
  {
   "cell_type": "markdown",
   "metadata": {},
   "source": [
    "![A random handwritten 9.](www/mnist_original.png){#fig-nine}"
   ]
  },
  {
   "cell_type": "markdown",
   "metadata": {},
   "source": [
    "The code below implements the four different approaches one by one. @fig-example shows the resulting counterfactuals. In every case the desired label switch is achieved, that is the corresponding classifier classifies the counterfactual as a four. But arguably from a human perspective only the counterfactuals for the deep ensemble look like a 4. For the MLP, both the generic and the greedy approach generate coutnerfactuals that look much like adversarial examples."
   ]
  },
  {
   "cell_type": "code",
   "execution_count": null,
   "metadata": {},
   "outputs": [],
   "source": [
    "# Generic - MLP\n",
    "generator = GenericGenerator(0.1,0.1,1e-5,:logitcrossentropy,nothing)\n",
    "recourse = generate_counterfactual(generator, x̅, 𝑴, target, γ; feasible_range=(0.0,1.0)) # generate recourse\n",
    "img = convert2image(reshape(recourse.x̲,Int(sqrt(input_dim)),Int(sqrt(input_dim))))\n",
    "plt_wachter = plot(img, title=\"MLP - Wachter\")\n",
    "\n",
    "# Greedy - MLP\n",
    "generator = GreedyGenerator(0.1,15,:logitcrossentropy,nothing)\n",
    "recourse = generate_counterfactual(generator, x̅, 𝑴, target, γ; feasible_range=(0.0,1.0)) # generate recourse\n",
    "img = convert2image(reshape(recourse.x̲,Int(sqrt(input_dim)),Int(sqrt(input_dim))))\n",
    "plt_greedy = plot(img, title=\"MLP - Greedy\")\n",
    "\n",
    "# Generic - Deep Ensemble\n",
    "generator = GenericGenerator(0.1,0.1,1e-5,:logitcrossentropy,nothing)\n",
    "recourse = generate_counterfactual(generator, x̅, 𝑴_ensemble, target, γ; feasible_range=(0.0,1.0)) # generate recourse\n",
    "img = convert2image(reshape(recourse.x̲,Int(sqrt(input_dim)),Int(sqrt(input_dim))))\n",
    "plt_wachter_de = plot(img, title=\"Ensemble - Wachter\")\n",
    "\n",
    "# Greedy - Deep Ensemble\n",
    "generator = GreedyGenerator(0.1,15,:logitcrossentropy,nothing)\n",
    "recourse = generate_counterfactual(generator, x̅, 𝑴_ensemble, target, γ; feasible_range=(0.0,1.0)) # generate recourse\n",
    "img = convert2image(reshape(recourse.x̲,Int(sqrt(input_dim)),Int(sqrt(input_dim))))\n",
    "plt_greedy_de = plot(img, title=\"Ensemble - Greedy\")\n",
    "\n",
    "plt_list = [plt_orig, plt_wachter, plt_greedy, plt_wachter_de, plt_greedy_de]\n",
    "plt = plot(plt_list...,layout=(1,length(plt_list)),axis=nothing, size=(1200,240))\n",
    "savefig(plt, \"www/MNIST_9to4.png\")"
   ]
  },
  {
   "cell_type": "markdown",
   "metadata": {},
   "source": [
    "![Counterfactual explanations for MNIST data: turning a 9 into a 4](www/MNIST_9to4.png){#fig-example}"
   ]
  },
  {
   "cell_type": "code",
   "execution_count": 31,
   "metadata": {},
   "outputs": [],
   "source": [
    "#| echo: false\n",
    "\n",
    "using Random\n",
    "\n",
    "# Single:\n",
    "function from_digit_to_digit(from, to, generator, model; γ=0.95, x=x, y=y, seed=1234, T=1000)\n",
    "\n",
    "    Random.seed!(seed)\n",
    "\n",
    "    candidates = findall(onecold(y,0:9).==from)\n",
    "    x̅ = Flux.unsqueeze(x[:,rand(candidates)],2)\n",
    "    target = to + 1\n",
    "    recourse = generate_counterfactual(generator, x̅, model, target, γ; feasible_range=(0.0,1.0), T=T)\n",
    "\n",
    "    return recourse\n",
    "end\n",
    "\n",
    "# Multiple:\n",
    "function from_digit_to_digit(from, to, generator::Dict, model::Dict; γ=0.95, x=x, y=y, seed=1234, T=1000)\n",
    "\n",
    "    Random.seed!(seed)\n",
    "\n",
    "    candidates = findall(onecold(y,0:9).==from)\n",
    "    x̅ = Flux.unsqueeze(x[:,rand(candidates)],2)\n",
    "    target = to + 1\n",
    "    recourses = Dict()\n",
    "\n",
    "    for (k_gen,v_gen) ∈ generators\n",
    "        for (k_mod,v_mod) ∈ models \n",
    "            k = k_mod * \" - \" * k_gen\n",
    "            recourses[k] = generate_counterfactual(v_gen, x̅, v_mod, target, γ; feasible_range=(0.0,1.0), T=T)\n",
    "        end\n",
    "    end\n",
    "\n",
    "    return recourses\n",
    "end;"
   ]
  },
  {
   "cell_type": "code",
   "execution_count": 32,
   "metadata": {},
   "outputs": [],
   "source": [
    "#| echo: false\n",
    "generators = Dict(\"Wachter\" => GenericGenerator(0.1,1,1e-5,:logitcrossentropy,nothing),\"Greedy\" => GreedyGenerator(0.1,15,:logitcrossentropy,nothing))\n",
    "models = Dict(\"MLP\" => 𝑴, \"Ensemble\" => 𝑴_ensemble);"
   ]
  },
  {
   "cell_type": "code",
   "execution_count": null,
   "metadata": {},
   "outputs": [],
   "source": [
    "#| echo: false\n",
    "from = 3\n",
    "to = 8\n",
    "recourses = from_digit_to_digit(from,to,generators,models)\n",
    "plts =  first(values(recourses)).x̅ |> x -> plot(convert2image(reshape(x,Int(sqrt(input_dim)),Int(sqrt(input_dim)))),title=\"Original\")\n",
    "plts = vcat(plts, [plot(convert2image(reshape(v.x̲,Int(sqrt(input_dim)),Int(sqrt(input_dim)))),title=k) for (k,v) in recourses])\n",
    "plt = plot(plts...,layout=(1,length(plts)),axis=nothing, size=(1200,240))\n",
    "savefig(plt, \"www/MNIST_$(from)to$(to).png\")"
   ]
  },
  {
   "cell_type": "code",
   "execution_count": null,
   "metadata": {},
   "outputs": [],
   "source": [
    "#| echo: false\n",
    "from = 7\n",
    "to = 2\n",
    "recourses = from_digit_to_digit(from,to,generators,models)\n",
    "plts =  first(values(recourses)).x̅ |> x -> plot(convert2image(reshape(x,Int(sqrt(input_dim)),Int(sqrt(input_dim)))),title=\"Original\")\n",
    "plts = vcat(plts, [plot(convert2image(reshape(v.x̲,Int(sqrt(input_dim)),Int(sqrt(input_dim)))),title=k) for (k,v) in recourses])\n",
    "plt = plot(plts...,layout=(1,length(plts)),axis=nothing, size=(1200,240))\n",
    "savefig(plt, \"www/MNIST_$(from)to$(to).png\")"
   ]
  },
  {
   "cell_type": "code",
   "execution_count": null,
   "metadata": {},
   "outputs": [],
   "source": [
    "#| echo: false\n",
    "from = 1\n",
    "to = 7\n",
    "recourses = from_digit_to_digit(from,to,generators,models)\n",
    "plts =  first(values(recourses)).x̅ |> x -> plot(convert2image(reshape(x,Int(sqrt(input_dim)),Int(sqrt(input_dim)))),title=\"Original\")\n",
    "plts = vcat(plts, [plot(convert2image(reshape(v.x̲,Int(sqrt(input_dim)),Int(sqrt(input_dim)))),title=k) for (k,v) in recourses])\n",
    "plt = plot(plts...,layout=(1,length(plts)),axis=nothing, size=(1200,240))\n",
    "savefig(plt, \"www/MNIST_$(from)to$(to).png\")"
   ]
  },
  {
   "cell_type": "code",
   "execution_count": null,
   "metadata": {},
   "outputs": [],
   "source": [
    "#| echo: false\n",
    "from = 9\n",
    "recourses = map(d -> from_digit_to_digit(from,d,GreedyGenerator(0.1,15,:logitcrossentropy,nothing),𝑴_ensemble;T=2500),filter(x -> x!=from, Vector(0:9)))\n",
    "plts = [plot(convert2image(reshape(rec.x̲,Int(sqrt(input_dim)),Int(sqrt(input_dim)))),title=rec.target-1) for rec in recourses]\n",
    "plot(plts...,layout=(1,length(plts)),axis=nothing,size=(1200,500))"
   ]
  },
  {
   "cell_type": "markdown",
   "metadata": {},
   "source": [
    "### References"
   ]
  }
 ],
 "metadata": {
  "kernelspec": {
   "display_name": "Julia 1.6.4",
   "language": "julia",
   "name": "julia-1.6"
  },
  "language_info": {
   "file_extension": ".jl",
   "mimetype": "application/julia",
   "name": "julia",
   "version": "1.6.4"
  },
  "orig_nbformat": 4
 },
 "nbformat": 4,
 "nbformat_minor": 2
}
