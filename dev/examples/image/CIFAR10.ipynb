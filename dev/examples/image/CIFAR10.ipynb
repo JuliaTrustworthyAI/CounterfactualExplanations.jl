{
 "cells": [
  {
   "cell_type": "markdown",
   "metadata": {},
   "source": [
    "```@meta\n",
    "CurrentModule = AlgorithmicRecourse \n",
    "```"
   ]
  },
  {
   "cell_type": "markdown",
   "metadata": {},
   "source": [
    "# From cat to dog"
   ]
  },
  {
   "cell_type": "code",
   "execution_count": 1,
   "metadata": {},
   "outputs": [
    {
     "name": "stderr",
     "output_type": "stream",
     "text": [
      "\u001b[33m\u001b[1m┌ \u001b[22m\u001b[39m\u001b[33m\u001b[1mWarning: \u001b[22m\u001b[39mPackage AlgorithmicRecourse does not have BSON in its dependencies:\n",
      "\u001b[33m\u001b[1m│ \u001b[22m\u001b[39m- If you have AlgorithmicRecourse checked out for development and have\n",
      "\u001b[33m\u001b[1m│ \u001b[22m\u001b[39m  added BSON as a dependency but haven't updated your primary\n",
      "\u001b[33m\u001b[1m│ \u001b[22m\u001b[39m  environment's manifest file, try `Pkg.resolve()`.\n",
      "\u001b[33m\u001b[1m│ \u001b[22m\u001b[39m- Otherwise you may need to report an issue with AlgorithmicRecourse\n",
      "\u001b[33m\u001b[1m└ \u001b[22m\u001b[39mLoading BSON into AlgorithmicRecourse from project dependency, future warnings for AlgorithmicRecourse are suppressed.\n"
     ]
    },
    {
     "data": {
      "text/plain": [
       "LogLevel(1)"
      ]
     },
     "metadata": {},
     "output_type": "display_data"
    }
   ],
   "source": [
    "using Plots, AlgorithmicRecourse, Random\n",
    "using Logging\n",
    "disable_logging(Logging.Info)"
   ]
  },
  {
   "cell_type": "code",
   "execution_count": 2,
   "metadata": {},
   "outputs": [
    {
     "name": "stdout",
     "output_type": "stream",
     "text": [
      "Training accuracy: 0.8024444444444444\n"
     ]
    },
    {
     "name": "stdout",
     "output_type": "stream",
     "text": [
      "Validation accuracy: 0.716\n"
     ]
    }
   ],
   "source": [
    "retrain = false\n",
    "include(\"CIFAR10.jl\")\n",
    "# Load model\n",
    "n_epochs = 200\n",
    "BSON.@load \"data/CIFAR10_nn_\" * string(n_epochs) * \".bson\" nn\n",
    "println(\"Training accuracy: \" * string(accuracy(train_x, train_y)))\n",
    "println(\"Validation accuracy: \" * string(accuracy(val_x, val_y)))"
   ]
  },
  {
   "cell_type": "code",
   "execution_count": 3,
   "metadata": {},
   "outputs": [],
   "source": [
    "using AlgorithmicRecourse, AlgorithmicRecourse.Models\n",
    "import AlgorithmicRecourse.Models: logits, probs # import functions in order to extend\n",
    "\n",
    "# Step 1)\n",
    "struct NeuralNetwork <: Models.FittedModel\n",
    "    nn::Any\n",
    "end\n",
    "\n",
    "# Step 2)\n",
    "logits(𝑴::NeuralNetwork, X::AbstractArray) = 𝑴.nn(X)\n",
    "probs(𝑴::NeuralNetwork, X::AbstractArray)= σ.(logits(𝑴, X))\n",
    "𝑴 = NeuralNetwork(nn);"
   ]
  },
  {
   "cell_type": "code",
   "execution_count": 4,
   "metadata": {},
   "outputs": [],
   "source": [
    "ŷ = vec(round.(probs(𝑴, train_x))) # predicted class\n",
    "# ŷ = CIFAR10.trainlabels()[1:1000]\n",
    "cats = findall(ŷ .== 0)\n",
    "dogs = findall(ŷ .== 1)\n",
    "# Plot random samples:\n",
    "using Plots\n",
    "Random.seed!(123)\n",
    "n_samples = 10\n",
    "using StatsBase\n",
    "random_cats = sample(cats, n_samples, replace=false)\n",
    "random_dogs = sample(dogs, n_samples, replace=false)\n",
    "conv2image(x) = colorview(RGB, permutedims(x, (3, 2, 1)))\n",
    "p_list = [plot(conv2image(train_x[:,:,:,i]), size=(100,100), axis=nothing, title=ifelse(train_y[i]==ŷ[i],\"Correct\",\"Wrong\")) for i ∈ vcat(random_cats, random_dogs)];"
   ]
  },
  {
   "cell_type": "code",
   "execution_count": 5,
   "metadata": {},
   "outputs": [],
   "source": [
    "plt = plot(p_list...,layout=(2,n_samples), size=(1000,200))\n",
    "savefig(plt, \"www/CIFAR10_predictions.png\")"
   ]
  },
  {
   "cell_type": "markdown",
   "metadata": {},
   "source": [
    "![](www/CIFAR10_predictions.png)"
   ]
  },
  {
   "cell_type": "code",
   "execution_count": 6,
   "metadata": {},
   "outputs": [],
   "source": [
    "using Images, FileIO\n",
    "sad_cat = load(\"www/cat.png\")\n",
    "happy_dog = load(\"www/dog.png\");"
   ]
  },
  {
   "cell_type": "code",
   "execution_count": 7,
   "metadata": {},
   "outputs": [
    {
     "data": {
      "image/png": "[encoded data removed]",
      "text/plain": [
       "32×32 Array{RGBA{N0f8},2} with eltype RGBA{N0f8}:\n",
       " RGBA{N0f8}(0.941,0.996,0.996,1.0)  …  RGBA{N0f8}(0.886,0.62,0.682,1.0)\n",
       " RGBA{N0f8}(0.922,0.996,0.988,1.0)     RGBA{N0f8}(0.953,0.761,0.808,1.0)\n",
       " RGBA{N0f8}(0.878,0.918,0.914,1.0)     RGBA{N0f8}(0.8,0.592,0.655,1.0)\n",
       " RGBA{N0f8}(0.863,0.91,0.91,1.0)       RGBA{N0f8}(0.839,0.627,0.69,1.0)\n",
       " RGBA{N0f8}(0.082,0.11,0.133,1.0)      RGBA{N0f8}(0.843,0.627,0.69,1.0)\n",
       " RGBA{N0f8}(0.631,0.686,0.698,1.0)  …  RGBA{N0f8}(0.847,0.627,0.702,1.0)\n",
       " RGBA{N0f8}(0.659,0.714,0.725,1.0)     RGBA{N0f8}(0.827,0.608,0.682,1.0)\n",
       " RGBA{N0f8}(0.624,0.675,0.698,1.0)     RGBA{N0f8}(0.804,0.596,0.667,1.0)\n",
       " RGBA{N0f8}(0.49,0.529,0.557,1.0)      RGBA{N0f8}(0.808,0.6,0.671,1.0)\n",
       " RGBA{N0f8}(0.878,0.937,0.949,1.0)     RGBA{N0f8}(0.78,0.573,0.643,1.0)\n",
       " ⋮                                  ⋱  \n",
       " RGBA{N0f8}(0.98,0.765,0.847,1.0)      RGBA{N0f8}(0.788,0.541,0.616,1.0)\n",
       " RGBA{N0f8}(0.851,0.58,0.651,1.0)      RGBA{N0f8}(0.839,0.6,0.671,1.0)\n",
       " RGBA{N0f8}(0.831,0.557,0.631,1.0)  …  RGBA{N0f8}(0.824,0.584,0.655,1.0)\n",
       " RGBA{N0f8}(0.855,0.573,0.651,1.0)     RGBA{N0f8}(0.847,0.608,0.678,1.0)\n",
       " RGBA{N0f8}(0.855,0.592,0.659,1.0)     RGBA{N0f8}(0.812,0.58,0.651,1.0)\n",
       " RGBA{N0f8}(0.78,0.51,0.58,1.0)        RGBA{N0f8}(0.824,0.592,0.663,1.0)\n",
       " RGBA{N0f8}(0.906,0.647,0.718,1.0)     RGBA{N0f8}(0.706,0.49,0.545,1.0)\n",
       " RGBA{N0f8}(0.961,0.808,0.843,1.0)  …  RGBA{N0f8}(0.718,0.502,0.557,1.0)\n",
       " RGBA{N0f8}(0.843,0.71,0.718,1.0)      RGBA{N0f8}(0.537,0.388,0.408,1.0)"
      ]
     },
     "metadata": {},
     "output_type": "display_data"
    }
   ],
   "source": [
    "using ImageTransformations\n",
    "ratio = 32/size(happy_dog)[1]\n",
    "happy_dog = imresize(happy_dog, ratio=ratio)"
   ]
  },
  {
   "cell_type": "code",
   "execution_count": 8,
   "metadata": {},
   "outputs": [
    {
     "data": {
      "image/png": "[encoded data removed]",
      "text/plain": [
       "32×32 Array{RGB{N0f8},2} with eltype RGB{N0f8}:\n",
       " RGB{N0f8}(0.0,0.0,0.0)  …  RGB{N0f8}(1.0,0.0,0.0)\n",
       " RGB{N0f8}(0.0,0.0,0.0)     RGB{N0f8}(0.0,0.0,0.0)\n",
       " RGB{N0f8}(0.0,0.0,0.0)     RGB{N0f8}(0.0,0.0,0.0)\n",
       " RGB{N0f8}(0.0,0.0,0.0)     RGB{N0f8}(0.0,0.0,0.0)\n",
       " RGB{N0f8}(0.0,0.0,0.0)     RGB{N0f8}(0.0,0.0,0.0)\n",
       " RGB{N0f8}(0.0,0.0,0.0)  …  RGB{N0f8}(0.0,0.0,0.0)\n",
       " RGB{N0f8}(0.0,0.0,0.0)     RGB{N0f8}(0.0,0.0,0.0)\n",
       " RGB{N0f8}(0.0,0.0,0.0)     RGB{N0f8}(0.0,0.0,0.0)\n",
       " RGB{N0f8}(0.0,0.0,0.0)     RGB{N0f8}(0.0,0.0,0.0)\n",
       " RGB{N0f8}(0.0,0.0,0.0)     RGB{N0f8}(0.0,0.0,0.0)\n",
       " ⋮                       ⋱  \n",
       " RGB{N0f8}(0.0,0.0,0.0)     RGB{N0f8}(0.0,0.0,0.0)\n",
       " RGB{N0f8}(0.0,0.0,0.0)     RGB{N0f8}(0.0,0.0,0.0)\n",
       " RGB{N0f8}(0.0,0.0,0.0)  …  RGB{N0f8}(0.0,0.0,0.0)\n",
       " RGB{N0f8}(0.0,0.0,0.0)     RGB{N0f8}(0.0,0.0,0.0)\n",
       " RGB{N0f8}(0.0,0.0,0.0)     RGB{N0f8}(0.0,0.0,0.0)\n",
       " RGB{N0f8}(0.0,0.0,0.0)     RGB{N0f8}(0.0,0.0,0.0)\n",
       " RGB{N0f8}(0.0,0.0,0.0)     RGB{N0f8}(0.0,0.0,0.0)\n",
       " RGB{N0f8}(0.0,0.0,0.0)  …  RGB{N0f8}(0.0,0.0,0.0)\n",
       " RGB{N0f8}(1.0,0.0,0.0)     RGB{N0f8}(0.0,0.0,0.0)"
      ]
     },
     "metadata": {},
     "output_type": "display_data"
    }
   ],
   "source": [
    "cat_rgb = RGB.(sad_cat)"
   ]
  },
  {
   "cell_type": "code",
   "execution_count": 9,
   "metadata": {},
   "outputs": [
    {
     "data": {
      "text/plain": [
       "1×1 Matrix{Float32}:\n",
       " 0.6517574"
      ]
     },
     "metadata": {},
     "output_type": "display_data"
    }
   ],
   "source": [
    "cat_CHW = channelview(cat_rgb);\n",
    "cat_WHC = permutedims(cat_CHW, (3,2,1))\n",
    "cat_train = reshape(cat_CHW, (size(cat_WHC)...,1))\n",
    "cat_train = convert(Array{Float32},cat_train)\n",
    "probs(𝑴,cat_train)"
   ]
  },
  {
   "cell_type": "code",
   "execution_count": 10,
   "metadata": {},
   "outputs": [
    {
     "data": {
      "image/png": "[encoded data removed]",
      "text/plain": [
       "32×32 Array{RGB{N0f8},2} with eltype RGB{N0f8}:\n",
       " RGB{N0f8}(0.941,0.996,0.996)  …  RGB{N0f8}(0.886,0.62,0.682)\n",
       " RGB{N0f8}(0.922,0.996,0.988)     RGB{N0f8}(0.953,0.761,0.808)\n",
       " RGB{N0f8}(0.878,0.918,0.914)     RGB{N0f8}(0.8,0.592,0.655)\n",
       " RGB{N0f8}(0.863,0.91,0.91)       RGB{N0f8}(0.839,0.627,0.69)\n",
       " RGB{N0f8}(0.082,0.11,0.133)      RGB{N0f8}(0.843,0.627,0.69)\n",
       " RGB{N0f8}(0.631,0.686,0.698)  …  RGB{N0f8}(0.847,0.627,0.702)\n",
       " RGB{N0f8}(0.659,0.714,0.725)     RGB{N0f8}(0.827,0.608,0.682)\n",
       " RGB{N0f8}(0.624,0.675,0.698)     RGB{N0f8}(0.804,0.596,0.667)\n",
       " RGB{N0f8}(0.49,0.529,0.557)      RGB{N0f8}(0.808,0.6,0.671)\n",
       " RGB{N0f8}(0.878,0.937,0.949)     RGB{N0f8}(0.78,0.573,0.643)\n",
       " ⋮                             ⋱  \n",
       " RGB{N0f8}(0.98,0.765,0.847)      RGB{N0f8}(0.788,0.541,0.616)\n",
       " RGB{N0f8}(0.851,0.58,0.651)      RGB{N0f8}(0.839,0.6,0.671)\n",
       " RGB{N0f8}(0.831,0.557,0.631)  …  RGB{N0f8}(0.824,0.584,0.655)\n",
       " RGB{N0f8}(0.855,0.573,0.651)     RGB{N0f8}(0.847,0.608,0.678)\n",
       " RGB{N0f8}(0.855,0.592,0.659)     RGB{N0f8}(0.812,0.58,0.651)\n",
       " RGB{N0f8}(0.78,0.51,0.58)        RGB{N0f8}(0.824,0.592,0.663)\n",
       " RGB{N0f8}(0.906,0.647,0.718)     RGB{N0f8}(0.706,0.49,0.545)\n",
       " RGB{N0f8}(0.961,0.808,0.843)  …  RGB{N0f8}(0.718,0.502,0.557)\n",
       " RGB{N0f8}(0.843,0.71,0.718)      RGB{N0f8}(0.537,0.388,0.408)"
      ]
     },
     "metadata": {},
     "output_type": "display_data"
    }
   ],
   "source": [
    "dog_rgb = RGB.(happy_dog)"
   ]
  },
  {
   "cell_type": "code",
   "execution_count": 11,
   "metadata": {},
   "outputs": [
    {
     "name": "stderr",
     "output_type": "stream",
     "text": [
      "┌ Warning: Slow fallback implementation invoked for conv!  You probably don't want this; check your datatypes.\n",
      "│   yT = Float32\n",
      "│   T1 = N0f8\n",
      "│   T2 = Float32\n",
      "└ @ NNlib /Users/FA31DU/.julia/packages/NNlib/nYCKa/src/conv.jl:288\n"
     ]
    },
    {
     "data": {
      "text/plain": [
       "1×1 Matrix{Float32}:\n",
       " 0.53444034"
      ]
     },
     "metadata": {},
     "output_type": "display_data"
    }
   ],
   "source": [
    "dog_CHW = channelview(dog_rgb);\n",
    "dog_WHC = permutedims(dog_CHW, (3,2,1))\n",
    "dog_train = reshape(dog_CHW, (size(dog_WHC)...,1))\n",
    "# dog_train = convert(Array{Float32},dog_train)\n",
    "probs(𝑴,dog_train)"
   ]
  },
  {
   "cell_type": "markdown",
   "metadata": {},
   "source": [
    "## Recourse"
   ]
  },
  {
   "cell_type": "code",
   "execution_count": 13,
   "metadata": {},
   "outputs": [
    {
     "data": {
      "image/png": "[encoded data removed]",
      "text/plain": [
       "32×32 reinterpret(reshape, RGB{Float32}, ::Array{Float32, 3}) with eltype RGB{Float32}:\n",
       " RGB{Float32}(0.262745,0.054902,0.0745098)   …  RGB{Float32}(0.262745,0.27451,0.301961)\n",
       " RGB{Float32}(0.207843,0.054902,0.0588235)      RGB{Float32}(0.25098,0.262745,0.290196)\n",
       " RGB{Float32}(0.184314,0.0627451,0.0823529)     RGB{Float32}(0.227451,0.239216,0.266667)\n",
       " RGB{Float32}(0.196078,0.0705882,0.0823529)     RGB{Float32}(0.207843,0.223529,0.25098)\n",
       " RGB{Float32}(0.341176,0.239216,0.266667)       RGB{Float32}(0.192157,0.203922,0.239216)\n",
       " RGB{Float32}(0.52549,0.564706,0.572549)     …  RGB{Float32}(0.188235,0.2,0.239216)\n",
       " RGB{Float32}(0.572549,0.572549,0.6)            RGB{Float32}(0.188235,0.2,0.239216)\n",
       " RGB{Float32}(0.580392,0.607843,0.635294)       RGB{Float32}(0.196078,0.211765,0.254902)\n",
       " RGB{Float32}(0.584314,0.619608,0.654902)       RGB{Float32}(0.207843,0.227451,0.270588)\n",
       " RGB{Float32}(0.588235,0.627451,0.670588)       RGB{Float32}(0.223529,0.25098,0.298039)\n",
       " ⋮                                           ⋱  \n",
       " RGB{Float32}(0.34902,0.372549,0.392157)        RGB{Float32}(1.0,1.0,1.0)\n",
       " RGB{Float32}(0.368627,0.384314,0.407843)       RGB{Float32}(1.0,1.0,1.0)\n",
       " RGB{Float32}(0.435294,0.443137,0.466667)    …  RGB{Float32}(1.0,1.0,1.0)\n",
       " RGB{Float32}(0.505882,0.541176,0.568627)       RGB{Float32}(1.0,1.0,1.0)\n",
       " RGB{Float32}(0.619608,0.666667,0.698039)       RGB{Float32}(1.0,1.0,1.0)\n",
       " RGB{Float32}(0.662745,0.698039,0.737255)       RGB{Float32}(1.0,1.0,1.0)\n",
       " RGB{Float32}(0.607843,0.639216,0.678431)       RGB{Float32}(1.0,1.0,1.0)\n",
       " RGB{Float32}(0.588235,0.639216,0.658824)    …  RGB{Float32}(1.0,1.0,1.0)\n",
       " RGB{Float32}(0.607843,0.666667,0.682353)       RGB{Float32}(0.996078,0.996078,0.996078)"
      ]
     },
     "metadata": {},
     "output_type": "display_data"
    }
   ],
   "source": [
    "chosen_sample = train_x[:,:,:,random_cats[1]]\n",
    "x̅ = reshape(chosen_sample,(size(chosen_sample)...,1))\n",
    "conv2image(x̅[:,:,:,1])"
   ]
  },
  {
   "cell_type": "code",
   "execution_count": 14,
   "metadata": {},
   "outputs": [],
   "source": [
    "y̅ = round(probs(𝑴, x̅)[1])\n",
    "target = 1.0\n",
    "γ = 0.95; # desired level of confidence"
   ]
  },
  {
   "cell_type": "code",
   "execution_count": 15,
   "metadata": {},
   "outputs": [],
   "source": [
    "generator = GenericGenerator(1,1,1e-5,:logitbinarycrossentropy,nothing)\n",
    "recourse = generate_recourse(generator, x̅, 𝑴, target, γ, feasible_range=(0.0,1.0)); # generate recourse"
   ]
  },
  {
   "cell_type": "code",
   "execution_count": 16,
   "metadata": {},
   "outputs": [
    {
     "data": {
      "image/png": "[encoded data removed]",
      "text/plain": [
       "32×32 reinterpret(reshape, RGB{Float64}, ::Array{Float64, 3}) with eltype RGB{Float64}:\n",
       " RGB{Float64}(0.267008,0.0584958,0.0731703)  …  RGB{Float64}(0.263129,0.275605,0.303526)\n",
       " RGB{Float64}(0.215341,0.0621907,0.0621845)     RGB{Float64}(0.250688,0.262151,0.29012)\n",
       " RGB{Float64}(0.194714,0.0727438,0.0869535)     RGB{Float64}(0.227881,0.238013,0.265808)\n",
       " RGB{Float64}(0.190427,0.0739813,0.0976727)     RGB{Float64}(0.206946,0.222494,0.250317)\n",
       " RGB{Float64}(0.380581,0.233373,0.297293)       RGB{Float64}(0.188535,0.201482,0.239549)\n",
       " RGB{Float64}(0.542318,0.564541,0.577863)    …  RGB{Float64}(0.184374,0.193515,0.239078)\n",
       " RGB{Float64}(0.575312,0.559392,0.59976)        RGB{Float64}(0.183127,0.196228,0.239082)\n",
       " RGB{Float64}(0.566635,0.620798,0.618979)       RGB{Float64}(0.198521,0.205863,0.248769)\n",
       " RGB{Float64}(0.516132,0.601221,0.641974)       RGB{Float64}(0.209521,0.224153,0.269379)\n",
       " RGB{Float64}(0.606637,0.610832,0.685675)       RGB{Float64}(0.218568,0.244844,0.300047)\n",
       " ⋮                                           ⋱  \n",
       " RGB{Float64}(0.321095,0.391889,0.375615)       RGB{Float64}(1.0,0.99682,0.994499)\n",
       " RGB{Float64}(0.342824,0.389924,0.454568)       RGB{Float64}(1.0,0.999919,1.0)\n",
       " RGB{Float64}(0.32686,0.41243,0.453138)      …  RGB{Float64}(1.0,1.0,1.0)\n",
       " RGB{Float64}(0.4597,0.508603,0.538558)         RGB{Float64}(1.0,0.994113,0.997991)\n",
       " RGB{Float64}(0.569813,0.665589,0.724566)       RGB{Float64}(1.0,1.0,1.0)\n",
       " RGB{Float64}(0.635443,0.710519,0.73163)        RGB{Float64}(1.0,1.0,1.0)\n",
       " RGB{Float64}(0.58917,0.63514,0.665815)         RGB{Float64}(1.0,1.0,1.0)\n",
       " RGB{Float64}(0.598178,0.648537,0.678758)    …  RGB{Float64}(1.0,0.999581,0.9999)\n",
       " RGB{Float64}(0.608307,0.66592,0.683155)        RGB{Float64}(0.996415,0.997436,0.995693)"
      ]
     },
     "metadata": {},
     "output_type": "display_data"
    }
   ],
   "source": [
    "conv2image(recourse.x̲[:,:,:,1])"
   ]
  },
  {
   "cell_type": "markdown",
   "metadata": {},
   "source": [
    "### Greedy"
   ]
  },
  {
   "cell_type": "code",
   "execution_count": 21,
   "metadata": {},
   "outputs": [
    {
     "name": "stderr",
     "output_type": "stream",
     "text": [
      "┌ Warning: Slow fallback implementation invoked for ∇conv_data!  You probably don't want this; check your datatypes.\n",
      "│   yT = Float64\n",
      "│   T1 = Float64\n",
      "│   T2 = Float32\n",
      "└ @ NNlib /Users/FA31DU/.julia/packages/NNlib/nYCKa/src/conv.jl:288\n"
     ]
    }
   ],
   "source": [
    "generator = GreedyGenerator(0.25,20,:logitbinarycrossentropy,nothing)\n",
    "recourse = generate_recourse(generator, x̅, 𝑴, target, γ,feasible_range=(0.0,1.0)); # generate recourse"
   ]
  },
  {
   "cell_type": "code",
   "execution_count": 22,
   "metadata": {},
   "outputs": [
    {
     "data": {
      "image/png": "[encoded data removed]",
      "text/plain": [
       "32×32 reinterpret(reshape, RGB{Float64}, ::Array{Float64, 3}) with eltype RGB{Float64}:\n",
       " RGB{Float64}(0.262745,0.054902,0.0745098)   …  RGB{Float64}(0.262745,0.27451,0.301961)\n",
       " RGB{Float64}(0.207843,0.054902,0.0588235)      RGB{Float64}(0.25098,0.262745,0.290196)\n",
       " RGB{Float64}(0.184314,0.0627451,0.0823529)     RGB{Float64}(0.227451,0.239216,0.266667)\n",
       " RGB{Float64}(0.196078,0.0705882,0.0823529)     RGB{Float64}(0.207843,0.223529,0.25098)\n",
       " RGB{Float64}(0.341176,0.239216,0.266667)       RGB{Float64}(0.192157,0.203922,0.239216)\n",
       " RGB{Float64}(0.52549,0.564706,0.572549)     …  RGB{Float64}(0.188235,0.2,0.239216)\n",
       " RGB{Float64}(0.572549,0.572549,0.6)            RGB{Float64}(0.188235,0.2,0.239216)\n",
       " RGB{Float64}(0.580392,0.607843,0.635294)       RGB{Float64}(0.196078,0.211765,0.254902)\n",
       " RGB{Float64}(0.584314,0.619608,0.654902)       RGB{Float64}(0.207843,0.227451,0.270588)\n",
       " RGB{Float64}(0.588235,0.627451,0.670588)       RGB{Float64}(0.223529,0.25098,0.298039)\n",
       " ⋮                                           ⋱  \n",
       " RGB{Float64}(0.34902,0.372549,0.392157)        RGB{Float64}(1.0,1.0,1.0)\n",
       " RGB{Float64}(0.368627,0.384314,0.407843)       RGB{Float64}(1.0,1.0,1.0)\n",
       " RGB{Float64}(0.435294,0.443137,0.466667)    …  RGB{Float64}(1.0,1.0,1.0)\n",
       " RGB{Float64}(0.505882,0.541176,0.568627)       RGB{Float64}(1.0,1.0,1.0)\n",
       " RGB{Float64}(0.619608,0.666667,0.698039)       RGB{Float64}(1.0,1.0,1.0)\n",
       " RGB{Float64}(0.662745,0.698039,0.737255)       RGB{Float64}(1.0,1.0,1.0)\n",
       " RGB{Float64}(0.607843,0.639216,0.678431)       RGB{Float64}(1.0,1.0,1.0)\n",
       " RGB{Float64}(0.588235,0.639216,0.658824)    …  RGB{Float64}(1.0,1.0,1.0)\n",
       " RGB{Float64}(0.607843,0.666667,0.682353)       RGB{Float64}(0.996078,0.996078,0.996078)"
      ]
     },
     "metadata": {},
     "output_type": "display_data"
    }
   ],
   "source": [
    "conv2image(recourse.x̲[:,:,:,1])"
   ]
  }
 ],
 "metadata": {
  "kernelspec": {
   "display_name": "Julia 1.6.4",
   "language": "julia",
   "name": "julia-1.6"
  },
  "language_info": {
   "file_extension": ".jl",
   "mimetype": "application/julia",
   "name": "julia",
   "version": "1.6.4"
  },
  "orig_nbformat": 4
 },
 "nbformat": 4,
 "nbformat_minor": 2
}
