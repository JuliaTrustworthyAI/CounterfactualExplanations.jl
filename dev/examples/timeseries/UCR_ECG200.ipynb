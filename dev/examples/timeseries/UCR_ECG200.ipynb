{
 "cells": [
  {
   "cell_type": "markdown",
   "metadata": {},
   "source": [
    "```@meta\n",
    "CurrentModule = CLEAR \n",
    "```"
   ]
  },
  {
   "cell_type": "markdown",
   "metadata": {},
   "source": [
    "# UCR ECG 200"
   ]
  },
  {
   "cell_type": "markdown",
   "metadata": {},
   "source": [
    "In this example we will look at a time series classification task..."
   ]
  },
  {
   "cell_type": "code",
   "execution_count": 5,
   "metadata": {},
   "outputs": [
    {
     "data": {
      "text/plain": [
       "Chain(\n",
       "  Dense(96, 128, relu),                 \u001b[90m# 12_416 parameters\u001b[39m\n",
       "  Dropout(0.1),\n",
       "  Dense(128, 1),                        \u001b[90m# 129 parameters\u001b[39m\n",
       ")\u001b[90m                   # Total: 4 arrays, \u001b[39m12_545 parameters, 49.285 KiB."
      ]
     },
     "metadata": {},
     "output_type": "display_data"
    }
   ],
   "source": [
    "using CLEAR, Flux\n",
    "data = CLEAR.Data.ucr_data()\n",
    "model = CLEAR.Data.ucr_model()"
   ]
  },
  {
   "cell_type": "code",
   "execution_count": 6,
   "metadata": {},
   "outputs": [],
   "source": [
    "y_train, X_train, X_test, y_test = values(data)\n",
    "n_train = size(X_train)[1]\n",
    "input_dim = size(X_train)[2]\n",
    "output_dim = 1;\n",
    "using Flux: DataLoader\n",
    "bs = Int(round(n_train/10))\n",
    "data = DataLoader((X_train[:,:,1]',Flux.unsqueeze(y_train,1)),batchsize=bs)\n",
    "test_data = zip(Flux.unstack(X_test[:,:,1],1),Flux.unsqueeze(y_test,1));"
   ]
  },
  {
   "cell_type": "code",
   "execution_count": 7,
   "metadata": {},
   "outputs": [],
   "source": [
    "using Statistics\n",
    "loss(x, y) = Flux.Losses.logitbinarycrossentropy(model(x), y)\n",
    "avg_loss(data) = mean(map(d -> loss(d[1],d[2]), data))\n",
    "accuracy(data) = mean(map(d -> mean(round.(Flux.σ.(model(d[1]))) .== d[2]), data));"
   ]
  },
  {
   "cell_type": "code",
   "execution_count": 9,
   "metadata": {},
   "outputs": [
    {
     "data": {
      "text/plain": [
       "0.87"
      ]
     },
     "metadata": {},
     "output_type": "display_data"
    }
   ],
   "source": [
    "accuracy(test_data)"
   ]
  }
 ],
 "metadata": {
  "kernelspec": {
   "display_name": "Julia 1.6.5",
   "language": "julia",
   "name": "julia-1.6"
  },
  "language_info": {
   "file_extension": ".jl",
   "mimetype": "application/julia",
   "name": "julia",
   "version": "1.6.5"
  },
  "orig_nbformat": 4
 },
 "nbformat": 4,
 "nbformat_minor": 2
}
