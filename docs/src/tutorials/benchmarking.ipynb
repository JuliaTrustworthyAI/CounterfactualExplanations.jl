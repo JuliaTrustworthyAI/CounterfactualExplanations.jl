{
  "cells": [
    {
      "cell_type": "raw",
      "metadata": {},
      "source": [
        "---\n",
        "execute: \n",
        "  output: true\n",
        "---"
      ],
      "id": "02da09f0"
    },
    {
      "cell_type": "markdown",
      "metadata": {},
      "source": [
        "``` @meta\n",
        "CurrentModule = CounterfactualExplanations \n",
        "```\n"
      ],
      "id": "3899ac78"
    },
    {
      "cell_type": "code",
      "metadata": {},
      "source": [
        "#| echo: false\n",
        "#| output: false\n",
        "\n",
        "include(\"$(pwd())/docs/setup_docs.jl\")\n",
        "eval(setup_docs)"
      ],
      "id": "2aac0d67",
      "execution_count": null,
      "outputs": []
    },
    {
      "cell_type": "markdown",
      "metadata": {},
      "source": [
        "# Performance Benchmarks\n",
        "\n",
        "In the previous tutorial, we have seen how counterfactual explanations can be evaluated. An important follow-up task is to compare the performance of different counterfactual generators is an important task. Researchers can use benchmarks to test new ideas they want to implement. Practitioners can find the right counterfactual generator for their specific use case through benchmarks. In this tutorial, we will see how to run benchmarks for counterfactual generators.\n",
        "\n",
        "## Post Hoc Benchmarking\n",
        "\n",
        "We begin by continuing the discussion from the previous tutorial: suppose you have generated multiple counterfactual explanations for multiple individuals, like below:\n"
      ],
      "id": "cf39ea0e"
    },
    {
      "cell_type": "code",
      "metadata": {},
      "source": [
        "#| output: false\n",
        "\n",
        "# Factual and target:\n",
        "n_individuals = 5\n",
        "ids = rand(findall(predict_label(M, counterfactual_data) .== factual), n_individuals)\n",
        "xs = select_factual(counterfactual_data, ids)\n",
        "ces = generate_counterfactual(xs, target, counterfactual_data, M, generator; num_counterfactuals=5)"
      ],
      "id": "d27e97eb",
      "execution_count": null,
      "outputs": []
    },
    {
      "cell_type": "markdown",
      "metadata": {},
      "source": [
        "You may be interested in comparing the outcomes across individuals. To benchmark the various counterfactual explanations using default evaluation measures, you can simply proceed as follows:\n"
      ],
      "id": "acf870d7"
    },
    {
      "cell_type": "code",
      "metadata": {},
      "source": [
        "#| output: false\n",
        "\n",
        "bmk = benchmark(ces)"
      ],
      "id": "c8e6eaff",
      "execution_count": null,
      "outputs": []
    },
    {
      "cell_type": "markdown",
      "metadata": {},
      "source": [
        "Under the hood, the [`benchmark(counterfactual_explanations::Vector{CounterfactualExplanation})`](@ref) uses [`evaluate(counterfactual_explanations::Vector{CounterfactualExplanation})`](@ref) to generate a [`Benchmark`](@ref) object, which contains the evaluation in its most granular form as a `DataFrame`.\n",
        "\n",
        "### Working with `Benchmark`s\n",
        "\n",
        "For convenience, the `DataFrame` containing the evaluation can be returned by simply calling the `Benchmark` object. By default, the aggregated evaluation measures across `id` (in line with the default behaviour of `evaluate`).\n"
      ],
      "id": "e4323382"
    },
    {
      "cell_type": "code",
      "metadata": {},
      "source": [
        "bmk()"
      ],
      "id": "7cdb0d66",
      "execution_count": null,
      "outputs": []
    },
    {
      "cell_type": "code",
      "metadata": {},
      "source": [
        "#| echo: false\n",
        "\n",
        "show(ans)"
      ],
      "id": "59ef9783",
      "execution_count": null,
      "outputs": []
    },
    {
      "cell_type": "markdown",
      "metadata": {},
      "source": [
        "To retrieve the granular dataset, simply do:\n"
      ],
      "id": "9d54505e"
    },
    {
      "cell_type": "code",
      "metadata": {},
      "source": [
        "bmk(agg=nothing)"
      ],
      "id": "ddf16ac6",
      "execution_count": null,
      "outputs": []
    },
    {
      "cell_type": "code",
      "metadata": {},
      "source": [
        "#| echo: false\n",
        "\n",
        "show(ans)"
      ],
      "id": "2cbb1e3a",
      "execution_count": null,
      "outputs": []
    },
    {
      "cell_type": "markdown",
      "metadata": {},
      "source": [
        "Since benchmarks return a `DataFrame` object on call, post-processing is straightforward. For example, we could use [`Tidier.jl`](https://kdpsingh.github.io/Tidier.jl/dev/):\n"
      ],
      "id": "fcfe6f04"
    },
    {
      "cell_type": "code",
      "metadata": {},
      "source": [
        "using Tidier\n",
        "@chain bmk() begin\n",
        "    @filter(variable == \"distance\")\n",
        "    @select(sample, variable, value)\n",
        "end"
      ],
      "id": "8262f5d0",
      "execution_count": null,
      "outputs": []
    },
    {
      "cell_type": "code",
      "metadata": {},
      "source": [
        "#| echo: false\n",
        "\n",
        "show(ans)"
      ],
      "id": "6c55b299",
      "execution_count": null,
      "outputs": []
    },
    {
      "cell_type": "markdown",
      "metadata": {},
      "source": [
        "### Metadata for Counterfactual Explanations\n",
        "\n",
        "Benchmarks always report metadata for each counterfactual explanation, which is automatically inferred by default. The default metadata concerns the explained `model` and the employed `generator`. In the current example, we used the same model and generator for each individual:\n"
      ],
      "id": "7c53f3a1"
    },
    {
      "cell_type": "code",
      "metadata": {},
      "source": [
        "@chain bmk() begin\n",
        "    @group_by(sample)\n",
        "    @select(sample, model, generator)\n",
        "    @summarize(model=unique(model),generator=unique(generator))\n",
        "    @ungroup\n",
        "end"
      ],
      "id": "b6b3e662",
      "execution_count": null,
      "outputs": []
    },
    {
      "cell_type": "code",
      "metadata": {},
      "source": [
        "#| echo: false\n",
        "\n",
        "show(ans)"
      ],
      "id": "dece48f9",
      "execution_count": null,
      "outputs": []
    },
    {
      "cell_type": "markdown",
      "metadata": {},
      "source": [
        "Metadata can also be provided as an optional key argument.\n"
      ],
      "id": "4b59e297"
    },
    {
      "cell_type": "code",
      "metadata": {},
      "source": [
        "meta_data = Dict(\n",
        "    :generator => \"Generic\",\n",
        "    :model => \"MLP\",\n",
        ")\n",
        "meta_data = [meta_data for i in 1:length(ces)]\n",
        "bmk = benchmark(ces; meta_data=meta_data)\n",
        "@chain bmk() begin\n",
        "    @group_by(sample)\n",
        "    @select(sample, model, generator)\n",
        "    @summarize(model=unique(model),generator=unique(generator))\n",
        "    @ungroup\n",
        "end"
      ],
      "id": "8499bca2",
      "execution_count": null,
      "outputs": []
    },
    {
      "cell_type": "code",
      "metadata": {},
      "source": [
        "#| echo: false\n",
        "\n",
        "show(ans)"
      ],
      "id": "b8af2d97",
      "execution_count": null,
      "outputs": []
    },
    {
      "cell_type": "markdown",
      "metadata": {},
      "source": [
        "## Ad Hoc Benchmarking\n",
        "\n",
        "So far we have assumed the following workflow:\n",
        "\n",
        "1.  Fit some machine learning model.\n",
        "2.  Generate counterfactual explanations for some individual(s) (`generate_counterfactual`).\n",
        "3.  Evaluate and benchmark them (`benchmark(ces::Vector{CounterfactualExplanation})`).\n",
        "\n",
        "In many cases, it may be preferable to combine these steps. To this end, we have added support for two scenarios of Ad Hoc Benchmarking.\n",
        "\n",
        "### Pre-trained Models\n",
        "\n",
        "In the first scenario, it is assumed that the machine learning models have been pre-trained and so the workflow can be summarized as follows:\n",
        "\n",
        "1.  Fit some machine learning model(s).\n",
        "2.  Generate counterfactual explanations and benchmark them.\n",
        "\n",
        "We suspect that this is the most common workflow for practitioners who are interested in benchmarking counterfactual explanations for the pre-trained machine learning models. Let's go through this workflow using a simple example. We first train some models and store them in a dictionary:\n"
      ],
      "id": "966154a3"
    },
    {
      "cell_type": "code",
      "metadata": {},
      "source": [
        "#| output: false\n",
        "\n",
        "models = Dict(\n",
        "    :MLP => fit_model(counterfactual_data, :MLP),\n",
        "    :Linear => fit_model(counterfactual_data, :Linear),\n",
        ")"
      ],
      "id": "62d2fb88",
      "execution_count": null,
      "outputs": []
    },
    {
      "cell_type": "markdown",
      "metadata": {},
      "source": [
        "Next, we store the counterfactual generators of interest in a dictionary as well:\n"
      ],
      "id": "4398b5d9"
    },
    {
      "cell_type": "code",
      "metadata": {},
      "source": [
        "#| output: false\n",
        "\n",
        "generators = Dict(\n",
        "    :Generic => GenericGenerator(),\n",
        "    :Gravitational => GravitationalGenerator(),\n",
        "    :Wachter => WachterGenerator(),\n",
        "    :ClaPROAR => ClaPROARGenerator(),\n",
        ")"
      ],
      "id": "2cb8749b",
      "execution_count": null,
      "outputs": []
    },
    {
      "cell_type": "markdown",
      "metadata": {},
      "source": [
        "Then we can run a benchmark for individual(s) `x`, a pre-specified `target` and `counterfactual_data` as follows:\n"
      ],
      "id": "d286afeb"
    },
    {
      "cell_type": "code",
      "metadata": {},
      "source": [
        "#| output: false\n",
        "\n",
        "bmk = benchmark(x, target, counterfactual_data; models=models, generators=generators)"
      ],
      "id": "ec6ff47b",
      "execution_count": null,
      "outputs": []
    },
    {
      "cell_type": "markdown",
      "metadata": {},
      "source": [
        "In this case, metadata is automatically inferred from the dictionaries:\n"
      ],
      "id": "cac295d9"
    },
    {
      "cell_type": "code",
      "metadata": {},
      "source": [
        "@chain bmk() begin\n",
        "    @filter(variable == \"distance\")\n",
        "    @select(sample, variable, value, model, generator)\n",
        "end"
      ],
      "id": "ebe9fbb1",
      "execution_count": null,
      "outputs": []
    },
    {
      "cell_type": "code",
      "metadata": {},
      "source": [
        "#| echo: false\n",
        "\n",
        "show(ans)"
      ],
      "id": "5ce04d62",
      "execution_count": null,
      "outputs": []
    },
    {
      "cell_type": "markdown",
      "metadata": {},
      "source": [
        "### Everything at once\n",
        "\n",
        "Researchers, in particular, may be interested in combining all steps into one. This is the second scenario of Ad Hoc Benchmarking:\n",
        "\n",
        "1.  Fit some machine learning model(s), generate counterfactual explanations and benchmark them.\n",
        "\n",
        "It involves calling `benchmark` directly on counterfactual data (the only positional argument):\n"
      ],
      "id": "3088da9d"
    },
    {
      "cell_type": "code",
      "metadata": {},
      "source": [
        "#| output: false\n",
        "\n",
        "bmk = benchmark(counterfactual_data)"
      ],
      "id": "f8f990de",
      "execution_count": null,
      "outputs": []
    },
    {
      "cell_type": "markdown",
      "metadata": {},
      "source": [
        "This will use the default models from [`standard_models_catalogue`](@ref) and train them on the data. All available generators from [`generator_catalogue`](@ref) will also be used:\n"
      ],
      "id": "c2ea46f7"
    },
    {
      "cell_type": "code",
      "metadata": {},
      "source": [
        "@chain bmk() begin\n",
        "    @filter(variable == \"validity\")\n",
        "    @select(sample, variable, value, model, generator)\n",
        "end"
      ],
      "id": "ec05019a",
      "execution_count": null,
      "outputs": []
    },
    {
      "cell_type": "code",
      "metadata": {},
      "source": [
        "#| echo: false\n",
        "\n",
        "show(ans)"
      ],
      "id": "d349410a",
      "execution_count": null,
      "outputs": []
    },
    {
      "cell_type": "markdown",
      "metadata": {},
      "source": [
        "Optionally, you can instead provide a dictionary of `models` and `generators` as before. Each value in the `models` dictionary should be one of two things:\n",
        "\n",
        "a.  Either be an object `M` of type [`AbstractFittedModel`](@ref) that implements the [`Models.train`](@ref) method.\n",
        "b.  Or a `DataType` that can be called on [`CounterfactualData`](@ref) to create an object `M` as in (a).\n",
        "\n",
        "## Multiple Datasets\n",
        "\n",
        "Benchmarks are run on single instances of type [`CounterfactualData`](@ref). This is our design choice for two reasons:\n",
        "\n",
        "1.  We want to avoid the loops inside the `benchmark` method(s) from getting too nested and convoluted.\n",
        "2.  While it is straightforward to infer metadata for models and generators, this is not the case for datasets.\n",
        "\n",
        "Fortunately, it is very easy to run benchmarks for multiple datasets anyway, since `Benchmark` instances can be concatenated. To see how, let's consider an example involving multiple datasets, models and generators:\n"
      ],
      "id": "a76ee424"
    },
    {
      "cell_type": "code",
      "metadata": {},
      "source": [
        "#| output: false\n",
        "\n",
        "# Data:\n",
        "datasets = Dict(\n",
        "    :moons => load_moons(),\n",
        "    :circles => load_circles(),\n",
        ")\n",
        "\n",
        "# Models:\n",
        "models = Dict(\n",
        "    :MLP => FluxModel,\n",
        "    :Linear => Linear,\n",
        ")\n",
        "\n",
        "# Generators:\n",
        "generators = Dict(\n",
        "    :Generic => GenericGenerator(),\n",
        "    :Greedy => GreedyGenerator(),\n",
        ")"
      ],
      "id": "29405815",
      "execution_count": null,
      "outputs": []
    },
    {
      "cell_type": "markdown",
      "metadata": {},
      "source": [
        "Then we can simply loop over the datasets and eventually concatenate the results like so:\n"
      ],
      "id": "cd2c2726"
    },
    {
      "cell_type": "code",
      "metadata": {},
      "source": [
        "#| output: false\n",
        "\n",
        "using CounterfactualExplanations.Evaluation: distance_measures\n",
        "bmks = []\n",
        "for (dataname, dataset) in datasets\n",
        "    bmk = benchmark(dataset; models=models, generators=generators, measure=distance_measures)\n",
        "    push!(bmks, bmk)\n",
        "end\n",
        "bmk = vcat(bmks[1], bmks[2]; ids=collect(keys(datasets)))"
      ],
      "id": "db246a16",
      "execution_count": null,
      "outputs": []
    },
    {
      "cell_type": "markdown",
      "metadata": {},
      "source": [
        "When `ids` are supplied, then a new id column is added to the evaluation data frame that contains unique identifiers for the different benchmarks. The optional `idcol_name` argument can be used to specify the name for that indicator column (defaults to `\"dataset\"`):\n"
      ],
      "id": "d62feb16"
    },
    {
      "cell_type": "code",
      "metadata": {},
      "source": [
        "@chain bmk() begin\n",
        "    @group_by(dataset, generator)\n",
        "    @filter(model == :MLP)\n",
        "    @filter(variable == \"distance_l1\")\n",
        "    @summarize(L1_norm=mean(value))\n",
        "    @ungroup\n",
        "end"
      ],
      "id": "efa989b8",
      "execution_count": null,
      "outputs": []
    },
    {
      "cell_type": "code",
      "metadata": {},
      "source": [
        "#| echo: false\n",
        "\n",
        "show(ans)"
      ],
      "id": "12d84ade",
      "execution_count": null,
      "outputs": []
    }
  ],
  "metadata": {
    "kernelspec": {
      "name": "julia-1.10",
      "language": "julia",
      "display_name": "Julia 1.10.2"
    }
  },
  "nbformat": 4,
  "nbformat_minor": 5
}