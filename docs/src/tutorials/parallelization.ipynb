{
  "cells": [
    {
      "cell_type": "raw",
      "metadata": {},
      "source": [
        "---\n",
        "execute: \n",
        "  output: true\n",
        "---"
      ],
      "id": "7e5460f4"
    },
    {
      "cell_type": "markdown",
      "metadata": {},
      "source": [
        "``` @meta\n",
        "CurrentModule = CounterfactualExplanations \n",
        "```\n"
      ],
      "id": "a89edcc2"
    },
    {
      "cell_type": "code",
      "metadata": {},
      "source": [
        "#| echo: false\n",
        "#| output: false\n",
        "\n",
        "include(\"$(pwd())/docs/setup_docs.jl\")\n",
        "eval(setup_docs)"
      ],
      "id": "cc7b14d6",
      "execution_count": null,
      "outputs": []
    },
    {
      "cell_type": "markdown",
      "metadata": {},
      "source": [
        "# Parallelization\n",
        "\n",
        "Version `0.1.15` adds support for parallelization through multi-processing. Currently, the only available backend for parallelization is [MPI.jl](https://juliaparallel.org/MPI.jl/latest/). \n",
        "\n",
        "## Available functions\n",
        "\n",
        "Parallelization is only available for certain functions. To check if a function is parallelizable, you can use  `parallelizable` function:\n"
      ],
      "id": "f2b85748"
    },
    {
      "cell_type": "code",
      "metadata": {},
      "source": [
        "using CounterfactualExplanations.Evaluation: evaluate, benchmark\n",
        "println(parallelizable(generate_counterfactual))\n",
        "println(parallelizable(evaluate))\n",
        "println(parallelizable(predict_label))"
      ],
      "id": "18409619",
      "execution_count": null,
      "outputs": []
    },
    {
      "cell_type": "markdown",
      "metadata": {},
      "source": [
        "In the following, we will generate multiple counterfactuals and evaluate them in parallel:\n"
      ],
      "id": "0c7d8124"
    },
    {
      "cell_type": "code",
      "metadata": {},
      "source": [
        "#| output: false\n",
        "using CounterfactualExplanations.Parallelization\n",
        "chosen = rand(findall(predict_label(M, counterfactual_data) .== factual), 1000)\n",
        "xs = select_factual(counterfactual_data, chosen)"
      ],
      "id": "a2705c88",
      "execution_count": null,
      "outputs": []
    },
    {
      "cell_type": "markdown",
      "metadata": {},
      "source": [
        "## Multi-threading\n",
        "\n",
        "We first instantiate an `ThreadParallelizer` object:\n"
      ],
      "id": "4271d042"
    },
    {
      "cell_type": "code",
      "metadata": {},
      "source": [
        "parallelizer = ThreadsParallelizer()"
      ],
      "id": "0f681d79",
      "execution_count": null,
      "outputs": []
    },
    {
      "cell_type": "markdown",
      "metadata": {},
      "source": [
        "To generate counterfactuals in parallel, we use the `parallelize` function:\n"
      ],
      "id": "1d382ad0"
    },
    {
      "cell_type": "code",
      "metadata": {},
      "source": [
        "ces = @with_parallelizer parallelizer begin\n",
        "    generate_counterfactual(\n",
        "        xs,\n",
        "        target,\n",
        "        counterfactual_data,\n",
        "        M,\n",
        "        generator\n",
        "    )\n",
        "end"
      ],
      "id": "52b7ad38",
      "execution_count": null,
      "outputs": []
    },
    {
      "cell_type": "markdown",
      "metadata": {},
      "source": [
        "To evaluate counterfactuals in parallel, we again use the `parallelize` function:\n"
      ],
      "id": "49a8dab0"
    },
    {
      "cell_type": "code",
      "metadata": {},
      "source": [
        "@with_parallelizer parallelizer evaluate(ces)"
      ],
      "id": "0d5895b9",
      "execution_count": null,
      "outputs": []
    },
    {
      "cell_type": "markdown",
      "metadata": {},
      "source": [
        "Benchmarks can also be run with parallelization by specifying `parallelizer` argument:\n"
      ],
      "id": "4d768199"
    },
    {
      "cell_type": "code",
      "metadata": {},
      "source": [
        "#| eval: false\n",
        "\n",
        "# Models:\n",
        "bmk = benchmark(counterfactual_data; parallelizer = parallelizer)"
      ],
      "id": "ef5e69e7",
      "execution_count": null,
      "outputs": []
    },
    {
      "cell_type": "markdown",
      "metadata": {},
      "source": [
        "## MPI\n",
        "\n",
        "\n",
        "```{=commonmark}\n",
        "!!! note\n",
        "    To use MPI, you need to have MPI installed on your machine. Running the following code straight from a running Julia session will work if you have MPI installed on your machine, but it will be run on a single process. To execute the code on multiple processes, you need to run it from the command line with `mpirun` or `mpiexec`. For example, to run a script on 4 processes, you can run the following command from the command line:\n",
        "    \n",
        "    ```\n",
        "\n",
        "    mpiexecjl --project -n 4 julia -e 'include(\"docs/src/srcipts/mpi.jl\")'\n",
        "    ```\n",
        "\n",
        "    For more information, see [MPI.jl](https://juliaparallel.org/MPI.jl/latest/). \n",
        "```\n",
        "\n",
        "We first instantiate an `MPIParallelizer` object:"
      ],
      "id": "d9683259"
    },
    {
      "cell_type": "code",
      "metadata": {},
      "source": [
        "import MPI\n",
        "MPI.Init()\n",
        "parallelizer = MPIParallelizer(MPI.COMM_WORLD; threaded=true)"
      ],
      "id": "d9f021f4",
      "execution_count": null,
      "outputs": []
    },
    {
      "cell_type": "markdown",
      "metadata": {},
      "source": [
        "To generate counterfactuals in parallel, we use the `parallelize` function:\n"
      ],
      "id": "61c1c0c3"
    },
    {
      "cell_type": "code",
      "metadata": {},
      "source": [
        "ces = @with_parallelizer parallelizer begin\n",
        "    generate_counterfactual(\n",
        "        xs,\n",
        "        target,\n",
        "        counterfactual_data,\n",
        "        M,\n",
        "        generator\n",
        "    )\n",
        "end"
      ],
      "id": "4d5f7948",
      "execution_count": null,
      "outputs": []
    },
    {
      "cell_type": "markdown",
      "metadata": {},
      "source": [
        "To evaluate counterfactuals in parallel, we again use the `parallelize` function:\n"
      ],
      "id": "5bbc4cf2"
    },
    {
      "cell_type": "code",
      "metadata": {},
      "source": [
        "@with_parallelizer parallelizer evaluate(ces)"
      ],
      "id": "f0d9bcc9",
      "execution_count": null,
      "outputs": []
    },
    {
      "cell_type": "markdown",
      "metadata": {},
      "source": [
        "```{=commonmark}\n",
        "!!! tip\n",
        "    Note that parallelizable processes can be supplied as input to the macro either as a block or directly as an expression.\n",
        "```\n",
        "\n",
        "\n",
        "Benchmarks can also be run with parallelization by specifying `parallelizer` argument:\n"
      ],
      "id": "202bc983"
    },
    {
      "cell_type": "code",
      "metadata": {},
      "source": [
        "#| eval: false\n",
        "\n",
        "# Models:\n",
        "bmk = benchmark(counterfactual_data; parallelizer = parallelizer)"
      ],
      "id": "0bb1e0f4",
      "execution_count": null,
      "outputs": []
    },
    {
      "cell_type": "markdown",
      "metadata": {},
      "source": [
        "The following code snippet shows a complete example script that uses MPI for running a benchmark in parallel:\n"
      ],
      "id": "4ab45cd6"
    },
    {
      "cell_type": "code",
      "metadata": {},
      "source": [
        "#| eval: false\n",
        "#| echo: true\n",
        "\n",
        "using CounterfactualExplanations\n",
        "using CounterfactualExplanations.Data\n",
        "using CounterfactualExplanations.Evaluation: benchmark\n",
        "using CounterfactualExplanations.Models\n",
        "using CounterfactualExplanations.Parallelization\n",
        "import MPI\n",
        "\n",
        "MPI.Init()\n",
        "\n",
        "data = TaijaData.load_linearly_separable()\n",
        "counterfactual_data = DataPreprocessing.CounterfactualData(data...)\n",
        "M = fit_model(counterfactual_data, :Linear)\n",
        "factual = 1\n",
        "target = 2\n",
        "chosen = rand(findall(predict_label(M, counterfactual_data) .== factual), 100)\n",
        "xs = select_factual(counterfactual_data, chosen)\n",
        "generator = GenericGenerator()\n",
        "\n",
        "parallelizer = MPIParallelizer(MPI.COMM_WORLD)\n",
        "\n",
        "bmk = benchmark(counterfactual_data; parallelizer=parallelizer)\n",
        "\n",
        "MPI.Finalize()"
      ],
      "id": "1c4ad800",
      "execution_count": null,
      "outputs": []
    },
    {
      "cell_type": "markdown",
      "metadata": {},
      "source": [
        "The file can be executed from the command line as follows:\n",
        "\n",
        "```\n",
        "mpiexecjl --project -n 4 julia -e 'include(\"docs/src/srcipts/mpi.jl\")'\n",
        "```\n"
      ],
      "id": "61949f06"
    }
  ],
  "metadata": {
    "kernelspec": {
      "name": "julia-1.10",
      "language": "julia",
      "display_name": "Julia 1.10.2"
    }
  },
  "nbformat": 4,
  "nbformat_minor": 5
}