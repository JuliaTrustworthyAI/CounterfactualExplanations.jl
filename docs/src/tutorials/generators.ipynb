{
  "cells": [
    {
      "cell_type": "markdown",
      "metadata": {},
      "source": [
        "```@meta\n",
        "CurrentModule = CounterfactualExplanations \n",
        "```\n"
      ],
      "id": "23477333"
    },
    {
      "cell_type": "code",
      "metadata": {},
      "source": [
        "#| echo: false\n",
        "include(\"$(pwd())/docs/setup_docs.jl\")\n",
        "eval(setup_docs)"
      ],
      "id": "4d9ec4c5",
      "execution_count": null,
      "outputs": []
    },
    {
      "cell_type": "markdown",
      "metadata": {},
      "source": [
        "# Handling Generators\n",
        "\n",
        "Generating Counterfactual Explanations can be seen as a generative modelling task because it involves generating samples in the input space: $x \\sim \\mathcal{X}$. In this tutorial, we will introduce how Counterfactual `GradientBasedGenerator`s are used. They are discussed in more detail in the explanatory section of the documentation.\n",
        "\n",
        "## Composable Generators \n",
        "\n",
        "\n",
        "```{=commonmark}\n",
        "!!! warning \"Breaking Changes Expected\"\n",
        "    Work on this feature is still in its very early stages and breaking changes should be expected. \n",
        "```\n",
        "\n",
        "\n",
        "One of the key objectives for this package is **Composability**. It turns out that many of the various counterfactual generators that have been proposed in the literature, essentially do the same thing: they optimize an objective function. Formally we have,\n",
        "\n",
        "$$\n",
        "\\begin{aligned}\n",
        "\\mathbf{s}^\\prime &= \\arg \\min_{\\mathbf{s}^\\prime \\in \\mathcal{S}} \\left\\{  {\\text{yloss}(M(f(\\mathbf{s}^\\prime)),y^*)}+ \\lambda {\\text{cost}(f(\\mathbf{s}^\\prime)) }  \\right\\} \n",
        "\\end{aligned} \n",
        "$$ {#eq-general}\n",
        "\n",
        "where $\\text{yloss}$ denotes the main loss function and $\\text{cost}$ is a penalty term [@altmeyer2023endogenous]. \n",
        "\n",
        "Without going into further detail here, the important thing to mention is that @eq-general very closely describes how counterfactual search is actually implemented in the package. In other words, all off-the-shelf generators currently implemented work with that same objective. They just vary in the way that penalties are defined, for example. This gives rise to an interesting idea: \n",
        "\n",
        "> Why not compose generators that combine ideas from different off-the-shelf generators?\n",
        "\n",
        "The [`GradientBasedGenerator`](@ref) class provides a straightforward way to do this, without requiring users to build custom `GradientBasedGenerator`s from scratch. It can be instantiated as follows:\n"
      ],
      "id": "a4221338"
    },
    {
      "cell_type": "code",
      "metadata": {},
      "source": [
        "generator = GradientBasedGenerator()"
      ],
      "id": "0460fbde",
      "execution_count": null,
      "outputs": []
    },
    {
      "cell_type": "markdown",
      "metadata": {},
      "source": [
        "By default, this creates a `generator` that simply performs gradient descent without any penalties. To modify the behaviour of the `generator`, you can define the counterfactual search objective function using the [`@objective`](@ref) macro:\n"
      ],
      "id": "fb761c39"
    },
    {
      "cell_type": "code",
      "metadata": {},
      "source": [
        "@objective(generator, logitbinarycrossentropy + 0.1distance_l2 + 1.0ddp_diversity)"
      ],
      "id": "790955c8",
      "execution_count": null,
      "outputs": []
    },
    {
      "cell_type": "markdown",
      "metadata": {},
      "source": [
        "Here we have essentially created a version of the [`DiCEGenerator`](@ref):\n"
      ],
      "id": "87de085d"
    },
    {
      "cell_type": "code",
      "metadata": {},
      "source": [
        "#| output: true\n",
        "\n",
        "ce = generate_counterfactual(x, target, counterfactual_data, M, generator; num_counterfactuals=5)\n",
        "plot(ce)"
      ],
      "id": "07080e4f",
      "execution_count": null,
      "outputs": []
    },
    {
      "cell_type": "markdown",
      "metadata": {},
      "source": [
        "Multiple macros can be chained using `Chains.jl` making it easy to create entirely new flavours of counterfactual generators. The following generator, for example, combines ideas from DiCE [@mothilal2020explaining] and REVISE [@joshi2019realistic]:\n"
      ],
      "id": "ef41ed45"
    },
    {
      "cell_type": "code",
      "metadata": {},
      "source": [
        "@chain generator begin\n",
        "    @objective logitcrossentropy + 1.0ddp_diversity     # DiCE (Mothilal et al. 2020)\n",
        "    @with_optimiser Flux.Adam(0.1)                      \n",
        "    @search_latent_space                                # REVISE (Joshi et al. 2019)\n",
        "end"
      ],
      "id": "25317dd0",
      "execution_count": null,
      "outputs": []
    },
    {
      "cell_type": "code",
      "metadata": {},
      "source": [
        "#| echo: false\n",
        "using CounterfactualExplanations.Models: load_mnist_ensemble, load_mnist_vae\n",
        "counterfactual_data = load_mnist()\n",
        "X, y = unpack_data(counterfactual_data)\n",
        "input_dim, n_obs = size(counterfactual_data.X)\n",
        "M = load_mnist_ensemble()\n",
        "vae = load_mnist_vae()\n",
        "generator.generative_model = vae # assign generative model"
      ],
      "id": "4280da36",
      "execution_count": null,
      "outputs": []
    },
    {
      "cell_type": "code",
      "metadata": {},
      "source": [
        "#| echo: false\n",
        "\n",
        "Random.seed!(2023)\n",
        "factual_label = 0\n",
        "x = reshape(X[:,rand(findall(predict_label(M, counterfactual_data).==factual_label))],input_dim,1)\n",
        "target = 8\n",
        "factual = predict_label(M, counterfactual_data, x)[1]\n",
        "ce = generate_counterfactual(\n",
        "    x, target, counterfactual_data, M, generator; \n",
        "    num_counterfactuals=5, convergence=DecisionThresholdConvergence(decision_threshold=0.9)\n",
        ")"
      ],
      "id": "8d863a29",
      "execution_count": null,
      "outputs": []
    },
    {
      "cell_type": "code",
      "metadata": {},
      "source": [
        "#| echo: false\n",
        "#| output: true\n",
        "\n",
        "Markdown.parse(\n",
        "  \"\"\"\n",
        "  Let's take this generator to our MNIST dataset and generate a counterfactual explanation for turning a $(factual) into a $(target). \n",
        "  \"\"\"\n",
        ")"
      ],
      "id": "725e74b7",
      "execution_count": null,
      "outputs": []
    },
    {
      "cell_type": "code",
      "metadata": {},
      "source": [
        "#| echo: false\n",
        "#| output: true\n",
        "\n",
        "# Factual:\n",
        "image_size = 300\n",
        "p1 = plot(\n",
        "    convert2image(MNIST, reshape(x,28,28)),\n",
        "    axis=nothing, \n",
        "    size=(image_size, image_size),\n",
        "    title=\"Factual\"\n",
        ")\n",
        "\n",
        "plts = []\n",
        "for i in 1:ce.num_counterfactuals\n",
        "    target_prob = round(target_probs(ce)[i][1],digits=2)\n",
        "    ŷ = CounterfactualExplanations.counterfactual_label(ce)[i]\n",
        "    plt = plot(\n",
        "        convert2image(MNIST, reshape(CounterfactualExplanations.counterfactual(ce)[:,i],28,28)),\n",
        "        axis=nothing, \n",
        "        size=(image_size, image_size),\n",
        "        title=\"CE$i\"\n",
        "    )\n",
        "    push!(plts, plt)\n",
        "end\n",
        "plt = plot(p1,plts...;size=(image_size * 6,image_size), layout=(1,6))\n",
        "display(plt)"
      ],
      "id": "c4fc0103",
      "execution_count": null,
      "outputs": []
    },
    {
      "cell_type": "markdown",
      "metadata": {},
      "source": [
        "## Off-the-Shelf Generators \n",
        "\n",
        "Off-the-shelf generators are just default recipes for counterfactual generators. Currently, the following off-the-shelf counterfactual generators are implemented in the package:\n"
      ],
      "id": "f4e9f78c"
    },
    {
      "cell_type": "code",
      "metadata": {},
      "source": [
        "#| output: true\n",
        "\n",
        "generator_catalogue"
      ],
      "id": "df431168",
      "execution_count": null,
      "outputs": []
    },
    {
      "cell_type": "code",
      "metadata": {},
      "source": [
        "#| echo: false\n",
        "\n",
        "# Counteractual data and model:\n",
        "data = TaijaData.load_linearly_separable()\n",
        "counterfactual_data = DataPreprocessing.CounterfactualData(data...)\n",
        "M = fit_model(counterfactual_data, :Linear)\n",
        "target = 2\n",
        "factual = 1\n",
        "chosen = rand(findall(predict_label(M, counterfactual_data) .== factual))\n",
        "x = select_factual(counterfactual_data, chosen)"
      ],
      "id": "1a1ddab2",
      "execution_count": null,
      "outputs": []
    },
    {
      "cell_type": "markdown",
      "metadata": {},
      "source": [
        "To specify the type of generator you want to use, you can simply instantiate it:\n"
      ],
      "id": "a91156b1"
    },
    {
      "cell_type": "code",
      "metadata": {},
      "source": [
        "#| output: true\n",
        "\n",
        "# Search:\n",
        "generator = GenericGenerator()\n",
        "ce = generate_counterfactual(x, target, counterfactual_data, M, generator)\n",
        "plot(ce)"
      ],
      "id": "a476ef6f",
      "execution_count": null,
      "outputs": []
    },
    {
      "cell_type": "markdown",
      "metadata": {},
      "source": [
        "We generally make an effort to follow the literature as closely as possible when implementing off-the-shelf generators. \n",
        "\n",
        "## References"
      ],
      "id": "7033f71b"
    }
  ],
  "metadata": {
    "kernelspec": {
      "name": "julia-1.10",
      "language": "julia",
      "display_name": "Julia 1.10.2"
    }
  },
  "nbformat": 4,
  "nbformat_minor": 5
}