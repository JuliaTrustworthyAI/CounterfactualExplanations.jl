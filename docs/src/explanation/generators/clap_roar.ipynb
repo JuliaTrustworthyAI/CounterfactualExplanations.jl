{
  "cells": [
    {
      "cell_type": "markdown",
      "metadata": {},
      "source": [
        "``` @meta\n",
        "CurrentModule = CounterfactualExplanations \n",
        "```\n"
      ],
      "id": "97a52134"
    },
    {
      "cell_type": "code",
      "metadata": {},
      "source": [
        "#| echo: false\n",
        "include(\"$(pwd())/docs/setup_docs.jl\")\n",
        "eval(setup_docs)"
      ],
      "id": "f6d4152e",
      "execution_count": null,
      "outputs": []
    },
    {
      "cell_type": "markdown",
      "metadata": {},
      "source": [
        "# `ClaPROARGenerator`\n",
        "\n",
        "The `ClaPROARGenerator` was introduced in @altmeyer2023endogenous.\n",
        "\n",
        "## Description\n",
        "\n",
        "The acronym **Clap** stands for **classifier-preserving**. The approach is loosely inspired by ROAR [@upadhyay2021robust]. @altmeyer2023endogenous propose to explicitly penalize the loss incurred by the classifer when evaluated on the counterfactual $x^\\prime$ at given parameter values. Formally, we have\n",
        "\n",
        "``` math\n",
        "\\begin{aligned}\n",
        "\\text{extcost}(f(\\mathbf{s}^\\prime)) = l(M(f(\\mathbf{s}^\\prime)),y^\\prime)\n",
        "\\end{aligned}\n",
        "```\n",
        "\n",
        "for each counterfactual $k$ where $l$ denotes the loss function used to train $M$. This approach is based on the intuition that (endogenous) model shifts will be triggered by counterfactuals that increase classifier loss [@altmeyer2023endogenous].\n",
        "\n",
        "## Usage\n",
        "\n",
        "The approach can be used in our package as follows:\n"
      ],
      "id": "a88a142b"
    },
    {
      "cell_type": "code",
      "metadata": {},
      "source": [
        "#| output: true\n",
        "generator = ClaPROARGenerator()\n",
        "ce = generate_counterfactual(x, target, counterfactual_data, M, generator)\n",
        "plot(ce)"
      ],
      "id": "53b826ae",
      "execution_count": null,
      "outputs": []
    },
    {
      "cell_type": "markdown",
      "metadata": {},
      "source": [
        "### Comparison to `GenericGenerator`\n",
        "\n",
        "The figure below compares the outcome for the `GenericGenerator` and the `ClaPROARGenerator`.\n"
      ],
      "id": "8b09f595"
    },
    {
      "cell_type": "code",
      "metadata": {},
      "source": [
        "#| echo: false\n",
        "opt = Flux.Descent(0.1)"
      ],
      "id": "4cf4b4ca",
      "execution_count": null,
      "outputs": []
    },
    {
      "cell_type": "code",
      "metadata": {},
      "source": [
        "#| output: true\n",
        "#| echo: false\n",
        "# Generators:\n",
        "generators = Dict(\n",
        "    \"Generic\" => GenericGenerator(opt = opt),\n",
        "    \"ClaPROAR\" => ClaPROARGenerator(opt = opt, λ=[0.0,1.0]),\n",
        ")\n",
        "\n",
        "counterfactuals = Dict([name => generate_counterfactual(x, target, counterfactual_data, M, gen; converge_when=:generator_conditions) for (name, gen) in generators])\n",
        "# Plots:\n",
        "plts = []\n",
        "for (name,ce) ∈ counterfactuals\n",
        "    plt = plot(ce; title=name, colorbar=false, ticks = false, legend=false, zoom=0)\n",
        "    plts = vcat(plts..., plt)\n",
        "end\n",
        "plot(plts..., size=(200*length(generators),200), layout=(1,length(generators)))"
      ],
      "id": "45fb45ab",
      "execution_count": null,
      "outputs": []
    },
    {
      "cell_type": "markdown",
      "metadata": {},
      "source": [
        "## References"
      ],
      "id": "37e9a447"
    }
  ],
  "metadata": {
    "kernelspec": {
      "name": "julia-1.10",
      "language": "julia",
      "display_name": "Julia 1.10.2"
    }
  },
  "nbformat": 4,
  "nbformat_minor": 5
}