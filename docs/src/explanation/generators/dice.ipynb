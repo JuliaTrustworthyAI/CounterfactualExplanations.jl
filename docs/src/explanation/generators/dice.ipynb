{
  "cells": [
    {
      "cell_type": "markdown",
      "metadata": {},
      "source": [
        "``` @meta\n",
        "CurrentModule = CounterfactualExplanations \n",
        "```\n"
      ],
      "id": "2921aa58"
    },
    {
      "cell_type": "code",
      "metadata": {},
      "source": [
        "#| echo: false\n",
        "include(\"$(pwd())/docs/setup_docs.jl\")\n",
        "eval(setup_docs)"
      ],
      "id": "9d74a6d3",
      "execution_count": null,
      "outputs": []
    },
    {
      "cell_type": "markdown",
      "metadata": {},
      "source": [
        "# `DiCEGenerator`\n",
        "\n",
        "The `DiCEGenerator` can be used to generate multiple diverse counterfactuals for a single factual.\n",
        "\n",
        "## Description\n",
        "\n",
        "Counterfactual Explanations are not unique and there are therefore many different ways through which valid counterfactuals can be generated. In the context of Algorithmic Recourse this can be leveraged to offer individuals not one, but possibly many different ways to change a negative outcome into a positive one. One might argue that it makes sense for those different options to be as diverse as possible. This idea is at the core of **DiCE**, a counterfactual generator introduce by @mothilal2020explaining that generate a diverse set of counterfactual explanations.\n",
        "\n",
        "### Defining Diversity\n",
        "\n",
        "To ensure that the generated counterfactuals are diverse, @mothilal2020explaining add a diversity constraint to the counterfactual search objective. In particular, diversity is explicitly proxied via Determinantal Point Processes (DDP).\n",
        "\n",
        "We can implement DDP in Julia as follows:[^1]\n",
        "\n",
        "[^1]: With thanks to the respondents on [Discourse](https://discourse.julialang.org/t/getting-around-zygote-mutating-array-issue/83907/2.png)\n"
      ],
      "id": "5ec8924b"
    },
    {
      "cell_type": "code",
      "metadata": {},
      "source": [
        "using LinearAlgebra\n",
        "function ddp_diversity(X::AbstractArray{<:Real, 3})\n",
        "    xs = eachslice(X, dims = ndims(X))\n",
        "    K = [1/(1 + norm(x .- y)) for x in xs, y in xs]\n",
        "    return det(K)\n",
        "end"
      ],
      "id": "e8447e46",
      "execution_count": null,
      "outputs": []
    },
    {
      "cell_type": "markdown",
      "metadata": {},
      "source": [
        "Below we generate some random points in $\\mathbb{R}^2$ and apply gradient ascent on this function evaluated at the whole array of points. As we can see in the animation below, the points are sent away from each other. In other words, diversity across the array of points increases as we ascend the `ddp_diversity` function.\n"
      ],
      "id": "b3c8671f"
    },
    {
      "cell_type": "code",
      "metadata": {},
      "source": [
        "lims = 5\n",
        "N = 5\n",
        "X = rand(2,1,N)\n",
        "T = 50\n",
        "η = 0.1\n",
        "anim = @animate for t in 1:T\n",
        "    X .+= gradient(ddp_diversity, X)[1]\n",
        "    Z = reshape(X,2,N)\n",
        "    scatter(\n",
        "        Z[1,:],Z[2,:],ms=25, \n",
        "        xlims=(-lims,lims),ylims=(-lims,lims),\n",
        "        label=\"\",colour=1:N,\n",
        "        size=(500,500),\n",
        "        title=\"Diverse Counterfactuals\"\n",
        "    )\n",
        "end\n",
        "gif(anim, joinpath(www_path, \"dice_intro.gif\"))"
      ],
      "id": "ec919abe",
      "execution_count": null,
      "outputs": []
    },
    {
      "cell_type": "markdown",
      "metadata": {},
      "source": [
        "![](../../www/dice_intro.gif){#fig-intro}\n",
        "\n",
        "## Usage\n",
        "\n",
        "The approach can be used in our package as follows:\n"
      ],
      "id": "1f1c3c8e"
    },
    {
      "cell_type": "code",
      "metadata": {},
      "source": [
        "#| output: true\n",
        "generator = DiCEGenerator()\n",
        "conv = CounterfactualExplanations.Convergence.GeneratorConditionsConvergence()\n",
        "ce = generate_counterfactual(\n",
        "    x, target, counterfactual_data, M, generator; \n",
        "    num_counterfactuals=5, convergence=conv\n",
        ")\n",
        "plot(ce)"
      ],
      "id": "5adf86f5",
      "execution_count": null,
      "outputs": []
    },
    {
      "cell_type": "markdown",
      "metadata": {},
      "source": [
        "### Effect of Penalty\n"
      ],
      "id": "0a2fe729"
    },
    {
      "cell_type": "code",
      "metadata": {},
      "source": [
        "Λ₂ = [0.1, 1.0, 5.0]\n",
        "ces = []\n",
        "n_cf = 5\n",
        "using Flux\n",
        "for λ₂ ∈ Λ₂  \n",
        "    λ = [0.00, λ₂]\n",
        "    generator = DiCEGenerator(λ=λ)\n",
        "    ces = vcat(\n",
        "      ces...,\n",
        "      generate_counterfactual(\n",
        "            x, target, counterfactual_data, M, generator; \n",
        "            num_counterfactuals=n_cf, convergence=conv\n",
        "      )\n",
        "    )\n",
        "end"
      ],
      "id": "4d9fe078",
      "execution_count": null,
      "outputs": []
    },
    {
      "cell_type": "markdown",
      "metadata": {},
      "source": [
        "The figure below shows the resulting counterfactual paths. As expected, the resulting counterfactuals are more dispersed across the feature domain for higher choices of $\\lambda_2$\n"
      ],
      "id": "d51883ea"
    },
    {
      "cell_type": "code",
      "metadata": {},
      "source": [
        "#| output: true\n",
        "#| echo: false\n",
        "\n",
        "T = 100\n",
        "plts = []\n",
        "for i ∈ 1:length(Λ₂)\n",
        "    λ₂ = Λ₂[i]\n",
        "    ce = ces[i]  \n",
        "    plt = plot(ce, plot_up_to=T, title=\"λ₂=$(λ₂)\")\n",
        "    plts = vcat(plts..., plt)\n",
        "end\n",
        "plot(plts..., size=(1200,300), layout=(1,3))"
      ],
      "id": "a6a2d756",
      "execution_count": null,
      "outputs": []
    },
    {
      "cell_type": "markdown",
      "metadata": {},
      "source": [
        "## References"
      ],
      "id": "b147c6dd"
    }
  ],
  "metadata": {
    "kernelspec": {
      "name": "julia-1.10",
      "language": "julia",
      "display_name": "Julia 1.10.2"
    }
  },
  "nbformat": 4,
  "nbformat_minor": 5
}