{
  "cells": [
    {
      "cell_type": "markdown",
      "metadata": {},
      "source": [
        "``` @meta\n",
        "CurrentModule = CounterfactualExplanations \n",
        "```\n"
      ],
      "id": "51238ef3"
    },
    {
      "cell_type": "code",
      "metadata": {},
      "source": [
        "#| echo: false\n",
        "include(\"$(pwd())/docs/setup_docs.jl\")\n",
        "eval(setup_docs)"
      ],
      "id": "2d5f7dcb",
      "execution_count": null,
      "outputs": []
    },
    {
      "cell_type": "markdown",
      "metadata": {},
      "source": [
        "# `FeatureTweakGenerator`\n",
        "\n",
        "**Feature Tweak** refers to the generator introduced by @tolomei2017interpretable. Our implementation takes inspiration from the [featureTweakPy library](https://github.com/upura/featureTweakPy).\n",
        "\n",
        "## Description\n",
        "\n",
        "Feature Tweak is a powerful recourse algorithm for ensembles of tree-based classifiers such as random forests. Though the problem of understanding how an input to an ensemble model could be transformed in such a way that the model changes its original prediction has been proven to be NP-hard [@tolomei2017interpretable], Feature Tweak provides an algorithm that manages to tractably solve this problem in multiple real-world applications. An example of a problem Feature Tweak is able to efficiently solve, explored in depth in @tolomei2017interpretable is the problem of transforming an advertisement that has been classified by the ensemble model as a low-quality advertisement to a high-quality one through small changes to its features. With the help of Feature Tweak, advertisers can both learn about the reasons a particular ad was marked to have a low quality, as well as receive actionable suggestions about how to convert a low-quality ad into a high-quality one.\n",
        "\n",
        "Though Feature Tweak is a powerful way of avoiding brute-force search in an exponential search space, it does not come without disadvantages. The primary limitations of the approach are that it's currently only applicable to tree-based classifiers and works only in the setting of binary classification. Another problem is that though the algorithm avoids exponential-time search, it is often still computationally expensive. The algorithm may be improved in the future to tackle all of these shortcomings.\n",
        "\n",
        "The following equation displays how a true negative instance x can be transformed into a positively predicted instance **x'**. To be more precise, **x'** is the best possible transformation among all transformations **x\\***, computed with a cost function δ.\n",
        "\n",
        "``` math\n",
        "\\begin{aligned}\n",
        "\\mathbf{x}^\\prime = \\arg_{\\mathbf{x^*}} \\min \\{ {\\delta(\\mathbf{x}, \\mathbf{x^*}) | \\hat{f}(\\mathbf{x}) = -1 \\wedge \\hat{f}(\\mathbf{x^*}) = +1} \\}\n",
        "\\end{aligned}\n",
        "```\n",
        "\n",
        "## Example\n",
        "\n",
        "In this example we apply the Feature Tweak algorithm to a decision tree and a random forest trained on the moons dataset. We first load the data and fit the models:\n"
      ],
      "id": "c4cbe7e7"
    },
    {
      "cell_type": "code",
      "metadata": {},
      "source": [
        "n = 500\n",
        "counterfactual_data = Data.load_moons(n)\n",
        "\n",
        "# Classifiers\n",
        "decision_tree = CounterfactualExplanations.Models.fit_model(\n",
        "    counterfactual_data, :DecisionTree; max_depth=5, min_samples_leaf=3\n",
        ")\n",
        "forest = Models.fit_model(counterfactual_data, :RandomForest)"
      ],
      "id": "181ca14f",
      "execution_count": null,
      "outputs": []
    },
    {
      "cell_type": "markdown",
      "metadata": {},
      "source": [
        "Next, we select a point to explain and a target class to transform the point to. We then search for counterfactuals using the `FeatureTweakGenerator`:\n"
      ],
      "id": "111c497a"
    },
    {
      "cell_type": "code",
      "metadata": {},
      "source": [
        "# Select a point to explain:\n",
        "x = float32.([1, -0.5])\n",
        "factual = Models.predict_label(forest, x)\n",
        "target = counterfactual_data.y_levels[findall(counterfactual_data.y_levels != factual)][1]\n",
        "\n",
        "# Search for counterfactuals:\n",
        "generator = FeatureTweakGenerator(0.1)\n",
        "tree_counterfactual = generate_counterfactual(\n",
        "    x, target, counterfactual_data, decision_tree, generator\n",
        ")\n",
        "forest_counterfactual = generate_counterfactual(\n",
        "    x, target, counterfactual_data, forest, generator\n",
        ")"
      ],
      "id": "0c0e3fac",
      "execution_count": null,
      "outputs": []
    },
    {
      "cell_type": "markdown",
      "metadata": {},
      "source": [
        "The resulting counterfactuals are shown below:\n"
      ],
      "id": "f5766a50"
    },
    {
      "cell_type": "code",
      "metadata": {},
      "source": [
        "#| output: true\n",
        "\n",
        "p1 = CounterfactualExplanations.plot(\n",
        "    tree_counterfactual;\n",
        "    colorbar=false,\n",
        "    title=\"Decision Tree\",\n",
        ")\n",
        "\n",
        "p2 = CounterfactualExplanations.plot(\n",
        "    forest_counterfactual; title=\"Random Forest\",\n",
        "    colorbar=false,\n",
        ")\n",
        "\n",
        "display(plot(p1, p2; size=(800, 400)))"
      ],
      "id": "97c0af42",
      "execution_count": null,
      "outputs": []
    },
    {
      "cell_type": "markdown",
      "metadata": {},
      "source": [
        "## References"
      ],
      "id": "a97e3828"
    }
  ],
  "metadata": {
    "kernelspec": {
      "name": "julia-1.10",
      "language": "julia",
      "display_name": "Julia 1.10.2"
    }
  },
  "nbformat": 4,
  "nbformat_minor": 5
}