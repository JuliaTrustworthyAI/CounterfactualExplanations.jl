{
  "cells": [
    {
      "cell_type": "markdown",
      "metadata": {},
      "source": [
        "``` @meta\n",
        "CurrentModule = CounterfactualExplanations \n",
        "```\n"
      ],
      "id": "b1f406ad"
    },
    {
      "cell_type": "code",
      "metadata": {},
      "source": [
        "#| echo: false\n",
        "include(\"$(pwd())/docs/setup_docs.jl\")\n",
        "eval(setup_docs)"
      ],
      "id": "c7675eaa",
      "execution_count": null,
      "outputs": []
    },
    {
      "cell_type": "markdown",
      "metadata": {},
      "source": [
        "# `CLUEGenerator`\n",
        "\n",
        "In this tutorial, we introduce the CLUEGenerator, a counterfactual generator based on the Counterfactual Latent Uncertainty Explanations (CLUE) method proposed by @antoran2020getting.\n",
        "\n",
        "## Description\n",
        "\n",
        "The CLUEGenerator leverages differentiable probabilistic models, such as Bayesian Neural Networks (BNNs), to estimate uncertainty in predictions. It aims to provide interpretable counterfactual explanations by identifying input patterns that lead to predictive uncertainty. The generator utilizes a latent variable framework and employs a decoder from a variational autoencoder (VAE) to generate counterfactual samples in latent space.\n",
        "\n",
        "The CLUE algorithm minimizes a loss function that combines uncertainty estimates and the distance between the generated counterfactual and the original input. By optimizing this loss function iteratively, the CLUEGenerator generates counterfactuals that are similar to the original observation but assigned low uncertainty.\n",
        "\n",
        "The formula for predictive entropy is as follow:\n",
        "\n",
        "``` math\n",
        "\\begin{aligned}\n",
        "H(y^*|x^*, D) &= - \\sum_{k=1}^{K} p(y^*=c_k|x^*, D) \\log p(y^*=c_k|x^*, D)\n",
        "\\end{aligned}\n",
        "```\n",
        "\n",
        "## Usage\n",
        "\n",
        "While using one must keep in mind that the CLUE algorithim is meant to find a more robust datapoint of the same class, using CLUE generator without any additional penalties/losses will mean that it is not a counterfactual generator. The generated result will be of the same class as the original input, but a more robust datapoint.\n",
        "\n",
        "CLUE works best for BNN's. The CLUEGenerator can be used with any differentiable probabilistic model, but the results may not be as good as with BNNs.\n",
        "\n",
        "The CLUEGenerator can be used in the following manner:\n"
      ],
      "id": "5cbbe6c7"
    },
    {
      "cell_type": "code",
      "metadata": {},
      "source": [
        "#| output: true\n",
        "generator = CLUEGenerator()\n",
        "M = fit_model(counterfactual_data, :DeepEnsemble)\n",
        "ce = generate_counterfactual(\n",
        "    x, target, counterfactual_data, M, generator;\n",
        "    converge_when=:max_iter, max_iter=1000)\n",
        "plot(ce)"
      ],
      "id": "c88dfcdf",
      "execution_count": null,
      "outputs": []
    },
    {
      "cell_type": "markdown",
      "metadata": {},
      "source": [
        "Extra: The CLUE generator can also be used upon already having achieved a counterfactual with a different generator. In this case you can use CLUE and make the counterfactual more robust.\n",
        "\n",
        "*Note: The above documentation is based on the information provided in the CLUE paper. Please refer to the original paper for more detailed explanations and implementation specifics.*\n",
        "\n",
        "## References"
      ],
      "id": "c52d8023"
    }
  ],
  "metadata": {
    "kernelspec": {
      "name": "julia-1.9",
      "language": "julia",
      "display_name": "Julia 1.9.4"
    }
  },
  "nbformat": 4,
  "nbformat_minor": 5
}