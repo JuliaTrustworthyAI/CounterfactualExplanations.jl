{
  "cells": [
    {
      "cell_type": "markdown",
      "metadata": {},
      "source": [
        "```@meta\n",
        "CurrentModule = CounterfactualExplanations \n",
        "```\n",
        "\n",
        "# MNIST\n",
        "\n",
        "In this example we will see how different counterfactual generators can be used to explain deep learning models for image classification. In particular, we will look at MNIST data and visually inspect how the different generators perturb images of handwritten digits in order to change the predicted label to a target label. @fig-samples shows a random sample of handwritten digits.\n"
      ],
      "id": "6c05aea2"
    },
    {
      "cell_type": "code",
      "metadata": {},
      "source": [
        "#| echo: false\n",
        "using Pkg; Pkg.activate(\"docs\")\n",
        "using CounterfactualExplanations, Plots, MLDatasets\n",
        "using MLDatasets: convert2image\n",
        "using BSON: @save, @load\n",
        "theme(:wong)\n",
        "using Logging\n",
        "disable_logging(Logging.Info)\n",
        "include(\"dev/utils.jl\") # some plotting functions\n",
        "www_path = \"docs/src/examples/image/www\""
      ],
      "id": "42509554",
      "execution_count": null,
      "outputs": []
    },
    {
      "cell_type": "code",
      "metadata": {},
      "source": [
        "#| echo: false\n",
        "data_train = MNIST(:train)\n",
        "train_x, train_y = data_train[:]\n",
        "input_dim = prod(size(train_x[:,:,1]))\n",
        "using Images, Random, StatsBase\n",
        "Random.seed!(1)\n",
        "n_samples = 10\n",
        "samples = train_x[:,:,sample(1:end, n_samples, replace=false)]\n",
        "mosaic = mosaicview([convert2image(MNIST, samples[:,:,i]) for i ∈ 1:n_samples]...,ncol=Int(n_samples/2))\n",
        "plt = plot(mosaic, size=(500,260), axis=nothing, background=:transparent)\n",
        "savefig(plt, joinpath(www_path, \"mnist_samples.png\"))"
      ],
      "id": "4dc1b436",
      "execution_count": null,
      "outputs": []
    },
    {
      "cell_type": "markdown",
      "metadata": {},
      "source": [
        "![A few random handwritten digits.](www/mnist_samples.png){#fig-samples}\n",
        "\n",
        "## Pre-trained classifiers\n",
        "\n",
        "Next we will load two pre-trained deep-learning classifiers:\n",
        "\n",
        "1. Simple MLP - `model`\n",
        "2. Deep ensemble - `ensemble`\n"
      ],
      "id": "0fc6f2cd"
    },
    {
      "cell_type": "code",
      "metadata": {},
      "source": [
        "using Flux\n",
        "using CounterfactualExplanations.Data: mnist_data, mnist_model, mnist_ensemble\n",
        "X, ys = mnist_data()\n",
        "model = mnist_model()\n",
        "ensemble = mnist_ensemble()"
      ],
      "id": "5486d1f1",
      "execution_count": null,
      "outputs": []
    },
    {
      "cell_type": "markdown",
      "metadata": {},
      "source": [
        "The following code just prepares the models to be used with `CounterfactualExplanations.jl`:\n"
      ],
      "id": "b2aa8c01"
    },
    {
      "cell_type": "code",
      "metadata": {},
      "source": [
        "using CounterfactualExplanations, CounterfactualExplanations.Models\n",
        "import CounterfactualExplanations.Models: logits, probs # import functions in order to extend\n",
        "\n",
        "M = FluxModel(model, likelihood=:classification_multi)\n",
        "M_ensemble=FluxEnsemble(ensemble, likelihood=:classification_multi)"
      ],
      "id": "5ef268d3",
      "execution_count": null,
      "outputs": []
    },
    {
      "cell_type": "markdown",
      "metadata": {},
      "source": [
        "## Generating counterfactuals\n",
        "\n",
        "We will look at four different approaches here: \n",
        "\n",
        "1. Generic approach for the MLP [@wachter2017counterfactual].\n",
        "2. Greedy approach for the MLP.\n",
        "3. Generic approach for the deep ensemble.\n",
        "4. Greedy approach for the deep ensemble [@schut2021generating].\n",
        "\n",
        "They can be implemented using the `GenericGenerator` and the `GreedyGenerator`.\n",
        "\n",
        "### Turning a 9 into a 4\n",
        "\n",
        "We will start with an example that should yield intuitive results: the process of turning a handwritten 9 in @fig-nine into a 4 is straight-forward for a human - just erase the top part. Let's see how the different algorithmic approaches perform. First, we preprocess the data below, where we impose that the features (pixel values) are constrained to the follwoing domain: $\\mathcal{X}=[0,1]\\subset\\mathbb{R}$.\n"
      ],
      "id": "fa8b213d"
    },
    {
      "cell_type": "code",
      "metadata": {},
      "source": [
        "counterfactual_data = CounterfactualData(X,ys;domain=(0,1))"
      ],
      "id": "fde00731",
      "execution_count": null,
      "outputs": []
    },
    {
      "cell_type": "markdown",
      "metadata": {},
      "source": [
        "Next we choose a random sample for which we will generate counterfactuals in the following:\n"
      ],
      "id": "a4ad3d30"
    },
    {
      "cell_type": "code",
      "metadata": {},
      "source": [
        "# Randomly selected factual:\n",
        "using Random\n",
        "Random.seed!(42)\n",
        "x = reshape(X[:,rand(findall(Flux.onecold(ys,0:9).==9))],input_dim,1)\n",
        "target = 5\n",
        "γ = 0.95"
      ],
      "id": "835956d4",
      "execution_count": null,
      "outputs": []
    },
    {
      "cell_type": "code",
      "metadata": {},
      "source": [
        "#| echo: false\n",
        "using Images\n",
        "input_dim = size(X)[1]\n",
        "img = convert2image(MNIST, reshape(x,Int(√(input_dim)),Int(√(input_dim))))\n",
        "plt_orig = plot(img, title=\"Original\", axis=nothing)\n",
        "savefig(plt_orig, joinpath(www_path, \"mnist_original.png\"))"
      ],
      "id": "bf47e5c2",
      "execution_count": null,
      "outputs": []
    },
    {
      "cell_type": "markdown",
      "metadata": {},
      "source": [
        "![A random handwritten 9.](www/mnist_original.png){#fig-nine}\n",
        "\n",
        "The code below implements the four different approaches one by one. @fig-example shows the resulting counterfactuals. In every case the desired label switch is achieved, that is the corresponding classifier classifies the counterfactual as a four. But arguably from a human perspective only the counterfactuals for the deep ensemble look like a 4. For the MLP, both the generic and the greedy approach generate counterfactuals that look much like adversarial examples.\n"
      ],
      "id": "772c6b7e"
    },
    {
      "cell_type": "code",
      "metadata": {},
      "source": [
        "# Generic - MLP\n",
        "generator = GenericGenerator(;loss=:logitcrossentropy)\n",
        "counterfactual = generate_counterfactual(x, target, counterfactual_data, M, generator; γ=γ)\n",
        "img = convert2image(MNIST,reshape(counterfactual(counterfactual),Int(√(input_dim)),Int(√(input_dim))))\n",
        "plt_wachter = plot(img, title=\"MLP - Wachter\")\n",
        "\n",
        "# Generic - Deep Ensemble\n",
        "counterfactual = generate_counterfactual(x, target, counterfactual_data, M_ensemble, generator; γ=γ)\n",
        "img = convert2image(MNIST,reshape(counterfactual(counterfactual),Int(√(input_dim)),Int(√(input_dim))))\n",
        "plt_wachter_de = plot(img, title=\"Ensemble - Wachter\")\n",
        "\n",
        "# Greedy - MLP\n",
        "generator = GreedyGenerator(;loss=:logitcrossentropy)\n",
        "counterfactual = generate_counterfactual(x, target, counterfactual_data, M, generator; γ=γ)\n",
        "img = convert2image(MNIST,reshape(counterfactual(counterfactual),Int(√(input_dim)),Int(√(input_dim))))\n",
        "plt_greedy = plot(img, title=\"MLP - Greedy\")\n",
        "\n",
        "# Greedy - Deep Ensemble\n",
        "counterfactual = generate_counterfactual(x, target, counterfactual_data, M_ensemble, generator; γ=γ)\n",
        "img = convert2image(MNIST,reshape(counterfactual(counterfactual),Int(√(input_dim)),Int(√(input_dim))))\n",
        "plt_greedy_de = plot(img, title=\"Ensemble - Greedy\")\n",
        "\n",
        "plt_list = [plt_orig, plt_wachter, plt_greedy, plt_wachter_de, plt_greedy_de]\n",
        "plt = plot(plt_list...,layout=(1,length(plt_list)),axis=nothing, size=(1200,240))\n",
        "savefig(plt, joinpath(www_path, \"MNIST_9to4.png\"))"
      ],
      "id": "23e10ce7",
      "execution_count": null,
      "outputs": []
    },
    {
      "cell_type": "markdown",
      "metadata": {},
      "source": [
        "![Counterfactual explanations for MNIST data: turning a 9 into a 4](www/MNIST_9to4.png){#fig-example}\n"
      ],
      "id": "7c85de27"
    },
    {
      "cell_type": "code",
      "metadata": {},
      "source": [
        "#| echo: false\n",
        "using Random\n",
        "\n",
        "# Single:\n",
        "function from_digit_to_digit(from, to, generator, model; γ=0.95, x=X, y=ys, seed=1234, T=1000)\n",
        "\n",
        "    Random.seed!(seed)\n",
        "\n",
        "    candidates = findall(onecold(y,0:9).==from)\n",
        "    x = Flux.unsqueeze(x[rand(candidates)],2)\n",
        "    target = to + 1\n",
        "    counterfactual = generate_counterfactual(x, target, counterfactual_data, v_mod, v_gen; T=T)\n",
        "\n",
        "    return recourse\n",
        "end\n",
        "\n",
        "# Multiple:\n",
        "function from_digit_to_digit(from, to, generator::Dict, model::Dict; γ=0.95, x=X, y=ys, seed=1234, T=1000)\n",
        "\n",
        "    Random.seed!(seed)\n",
        "\n",
        "    candidates = findall(onecold(y,0:9).==from)\n",
        "    x = Flux.unsqueeze(x[:,rand(candidates)],2)\n",
        "    target = to + 1\n",
        "    counterfactuals = Dict()\n",
        "\n",
        "    for (k_gen,v_gen) ∈ generators\n",
        "        for (k_mod,v_mod) ∈ models \n",
        "            k = k_mod * \" - \" * k_gen\n",
        "            counterfactuals[k] = generate_counterfactual(x, target, counterfactual_data, v_mod, v_gen; T=T)\n",
        "        end\n",
        "    end\n",
        "\n",
        "    return counterfactuals\n",
        "end"
      ],
      "id": "8c7d2f96",
      "execution_count": null,
      "outputs": []
    },
    {
      "cell_type": "code",
      "metadata": {},
      "source": [
        "#| echo: false\n",
        "generators = Dict(\n",
        "    \"Wachter\" => GenericGenerator(;loss=:logitcrossentropy),\n",
        "    \"Greedy\" => GreedyGenerator(;loss=:logitcrossentropy)\n",
        ")\n",
        "models = Dict(\"MLP\" => M, \"Ensemble\" => M_ensemble)"
      ],
      "id": "5accc9d2",
      "execution_count": null,
      "outputs": []
    },
    {
      "cell_type": "code",
      "metadata": {},
      "source": [
        "#| echo: false\n",
        "from = 3\n",
        "to = 8\n",
        "counterfactuals = from_digit_to_digit(from,to,generators,models)\n",
        "plts =  first(values(counterfactuals)).x |> x -> plot(convert2image(reshape(x,Int(√(input_dim)),Int(√(input_dim)))),title=\"Original\")\n",
        "plts = vcat(plts, [plot(convert2image(reshape(v.x′,Int(√(input_dim)),Int(√(input_dim)))),title=k) for (k,v) in counterfactuals])\n",
        "plt = plot(plts...,layout=(1,length(plts)),axis=nothing, size=(1200,240))\n",
        "savefig(plt, joinpath(www_path, \"MNIST_$(from)to$(to).png\"))"
      ],
      "id": "dd07ac22",
      "execution_count": null,
      "outputs": []
    },
    {
      "cell_type": "code",
      "metadata": {},
      "source": [
        "#| echo: false\n",
        "from = 7\n",
        "to = 2\n",
        "counterfactuals = from_digit_to_digit(from,to,generators,models)\n",
        "plts =  first(values(counterfactuals)).x |> x -> plot(convert2image(reshape(x,Int(√(input_dim)),Int(√(input_dim)))),title=\"Original\")\n",
        "plts = vcat(plts, [plot(convert2image(reshape(v.x′,Int(√(input_dim)),Int(√(input_dim)))),title=k) for (k,v) in counterfactuals])\n",
        "plt = plot(plts...,layout=(1,length(plts)),axis=nothing, size=(1200,240))\n",
        "savefig(plt, joinpath(www_path, \"MNIST_$(from)to$(to).png\"))"
      ],
      "id": "5e91c3d5",
      "execution_count": null,
      "outputs": []
    },
    {
      "cell_type": "code",
      "metadata": {},
      "source": [
        "#| echo: false\n",
        "from = 1\n",
        "to = 7\n",
        "counterfactuals = from_digit_to_digit(from,to,generators,models)\n",
        "plts =  first(values(counterfactuals)).x |> x -> plot(convert2image(reshape(x,Int(√(input_dim)),Int(√(input_dim)))),title=\"Original\")\n",
        "plts = vcat(plts, [plot(convert2image(reshape(v.x′,Int(√(input_dim)),Int(√(input_dim)))),title=k) for (k,v) in counterfactuals])\n",
        "plt = plot(plts...,layout=(1,length(plts)),axis=nothing, size=(1200,240))\n",
        "savefig(plt, joinpath(www_path, \"MNIST_$(from)to$(to).png\"))"
      ],
      "id": "9674384c",
      "execution_count": null,
      "outputs": []
    },
    {
      "cell_type": "markdown",
      "metadata": {},
      "source": [
        "### References\n"
      ],
      "id": "0184df59"
    }
  ],
  "metadata": {
    "kernelspec": {
      "name": "julia-1.8",
      "language": "julia",
      "display_name": "Julia 1.8.1"
    }
  },
  "nbformat": 4,
  "nbformat_minor": 5
}